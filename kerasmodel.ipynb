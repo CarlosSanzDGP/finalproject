{
 "cells": [
  {
   "cell_type": "code",
   "execution_count": 2,
   "metadata": {},
   "outputs": [],
   "source": [
    "\n",
    "from sklearn.model_selection import train_test_split\n",
    "import keras\n",
    "from keras.datasets import mnist\n",
    "from keras.models import Sequential\n",
    "from keras.layers import Dense, Dropout, Flatten\n",
    "from keras.layers import Conv2D, MaxPooling2D\n",
    "from keras import backend as K\n",
    "import pandas as pd\n",
    "import numpy as np\n",
    "from keras.optimizers import SGD\n",
    "from keras.preprocessing.image import ImageDataGenerator\n",
    "from keras.layers import Activation, Dropout, Flatten, Dense\n",
    "import tensorflow as tf\n",
    "from os import listdir\n",
    "from PIL import Image\n",
    "import glob, os\n",
    "from os import listdir\n",
    "from os.path import isfile, join\n",
    "import numpy as np\n",
    "from pandas import DataFrame\n",
    "import pandas as pd\n",
    "from matplotlib import pyplot as plt\n",
    "#from __future__ import print_function\n",
    "\n",
    "from SRC.transform import *\n",
    "#estas son mis funciones traidas del jupyter contiguo"
   ]
  },
  {
   "cell_type": "code",
   "execution_count": null,
   "metadata": {},
   "outputs": [],
   "source": []
  },
  {
   "cell_type": "code",
   "execution_count": 3,
   "metadata": {},
   "outputs": [],
   "source": [
    "paths={\"black\":\"INPUT/black/\",\n",
    "      \"white\":\"INPUT/white/\",\n",
    "      \"green\":\"INPUT/green/\",\n",
    "      \"red\":\"INPUT/red/\"}\n",
    "images={}\n",
    "for color,path in paths.items():\n",
    "    images[color]=[]\n",
    "    for im in listdir(path):\n",
    "        if im.endswith(\"jpg\"):\n",
    "            #size=(64,64)\n",
    "            a=resize_image(path+im,(64,64))\n",
    "            images[color].append(np.asarray(a))\n",
    "    images[color]=np.array(images[color])"
   ]
  },
  {
   "cell_type": "code",
   "execution_count": 5,
   "metadata": {},
   "outputs": [],
   "source": [
    "X= np.concatenate(list(images.values()),axis=0)\n",
    "y = np.concatenate([[k]* v.shape[0] for k,v in images.items()])"
   ]
  },
  {
   "cell_type": "markdown",
   "metadata": {},
   "source": [
    "# Division entre la x y la y para test\n",
    "### Ojo, normalmente convertiriamos el onehotencoder antes de esta division para ahorrarnos un paso"
   ]
  },
  {
   "cell_type": "code",
   "execution_count": 6,
   "metadata": {},
   "outputs": [],
   "source": [
    "X_train, X_test, y_train, y_test = train_test_split(X, y, test_size=0.2)"
   ]
  },
  {
   "cell_type": "code",
   "execution_count": 7,
   "metadata": {},
   "outputs": [
    {
     "name": "stdout",
     "output_type": "stream",
     "text": [
      "x_train shape: (8388, 64, 64, 3)\n",
      "8388 train samples\n",
      "2097 test samples\n"
     ]
    }
   ],
   "source": [
    "img_width, img_height = 64, 64\n",
    "img_rows, img_cols = 64, 64\n",
    "\n",
    "# Prepare data to feed the NN\n",
    "num_classes = 4\n",
    "\n",
    "# Ask keras which format to use depending on used backend and arrange data as expected\n",
    "if K.image_data_format() == 'channels_first':\n",
    "    X_train = x_train.reshape(X_train.shape[0], 3, img_rows, img_cols)\n",
    "    X_test = x_test.reshape(X_test.shape[0], 3, img_rows, img_cols)\n",
    "    input_shape = (3, img_width, img_height)\n",
    "else:\n",
    "    X_train = X_train.reshape(X_train.shape[0], img_rows, img_cols, 3)\n",
    "    X_test = X_test.reshape(X_test.shape[0], img_rows, img_cols, 3)\n",
    "    input_shape = (img_width, img_height, 3)\n",
    "\n",
    "# Incoming data is in uint8. Cast the input data images to be floats in range [0.0-1.0]  \n",
    "X_train = tf.keras.utils.normalize(X_train,axis=1)\n",
    "X_test = tf.keras.utils.normalize(X_test,axis=1)\n",
    "#X_train = X_train.astype('float32') / 255\n",
    "#X_test = X_test.astype('float32') / 255\n",
    "\n",
    "print('x_train shape:', X_train.shape)\n",
    "print(X_train.shape[0], 'train samples')\n",
    "print(X_test.shape[0], 'test samples')"
   ]
  },
  {
   "cell_type": "code",
   "execution_count": 8,
   "metadata": {},
   "outputs": [],
   "source": [
    "#red neuronal propiamente dicha"
   ]
  },
  {
   "cell_type": "code",
   "execution_count": 9,
   "metadata": {},
   "outputs": [],
   "source": [
    "img_width, img_height = 64, 64\n",
    "\n",
    "model = Sequential()\n",
    "model.add(Conv2D(32, (3, 3), input_shape=input_shape))\n",
    "model.add(Activation('relu'))\n",
    "model.add(MaxPooling2D(pool_size=(2, 2)))\n",
    "#model.add(tf.keras.layers.Flatten())\n",
    "\n",
    "model.add(Conv2D(32, (3, 3)))\n",
    "model.add(Activation('relu'))\n",
    "model.add(MaxPooling2D(pool_size=(2, 2)))\n",
    "\n",
    "model.add(Conv2D(64, (3, 3)))\n",
    "model.add(Activation('relu'))\n",
    "model.add(MaxPooling2D(pool_size=(2, 2)))\n",
    "\n",
    "model.add(Flatten())\n",
    "model.add(Dense(64))\n",
    "model.add(Activation('relu'))\n",
    "model.add(Dropout(0.5))\n",
    "model.add(Dense(4))\n",
    "model.add(Activation('sigmoid'))\n",
    "\n",
    "model.compile(loss='binary_crossentropy',\n",
    "              optimizer='rmsprop',\n",
    "              metrics=['accuracy'])"
   ]
  },
  {
   "cell_type": "code",
   "execution_count": null,
   "metadata": {},
   "outputs": [],
   "source": []
  },
  {
   "cell_type": "markdown",
   "metadata": {},
   "source": [
    "### Proceso de cambio de las y para poder utilizarlas en el modelo. \n",
    "### Las necesitamos en el formato de array sin strings y getdummies no nos sirvio ya que \n",
    "### no podiamos obtener el color con posterioridad."
   ]
  },
  {
   "cell_type": "code",
   "execution_count": 10,
   "metadata": {},
   "outputs": [],
   "source": [
    "# importo aqui para que quede reflejado el modulo que utilizamos\n",
    "from sklearn.preprocessing import OneHotEncoder"
   ]
  },
  {
   "cell_type": "code",
   "execution_count": 11,
   "metadata": {},
   "outputs": [
    {
     "data": {
      "text/plain": [
       "array(['black', 'red', 'black', ..., 'white', 'white', 'red'], dtype='<U5')"
      ]
     },
     "execution_count": 11,
     "metadata": {},
     "output_type": "execute_result"
    }
   ],
   "source": [
    "y_test\n"
   ]
  },
  {
   "cell_type": "code",
   "execution_count": 12,
   "metadata": {},
   "outputs": [
    {
     "data": {
      "text/plain": [
       "array([['black'],\n",
       "       ['red'],\n",
       "       ['black'],\n",
       "       ...,\n",
       "       ['white'],\n",
       "       ['white'],\n",
       "       ['red']], dtype='<U5')"
      ]
     },
     "execution_count": 12,
     "metadata": {},
     "output_type": "execute_result"
    }
   ],
   "source": [
    "# Hacemos el reshape, luego onehot encoder, luego fit y por ultimo toarray\n",
    "y_test= y_test.reshape(-1, 1)\n",
    "y_test"
   ]
  },
  {
   "cell_type": "code",
   "execution_count": 13,
   "metadata": {},
   "outputs": [
    {
     "data": {
      "text/plain": [
       "OneHotEncoder()"
      ]
     },
     "execution_count": 13,
     "metadata": {},
     "output_type": "execute_result"
    }
   ],
   "source": [
    "##3\n",
    "enc = OneHotEncoder()\n",
    "enc.fit(y_test)  "
   ]
  },
  {
   "cell_type": "code",
   "execution_count": 14,
   "metadata": {},
   "outputs": [],
   "source": [
    "y_test = enc.transform(y_test).toarray()"
   ]
  },
  {
   "cell_type": "code",
   "execution_count": 15,
   "metadata": {},
   "outputs": [
    {
     "data": {
      "text/plain": [
       "array([[1., 0., 0., 0.],\n",
       "       [0., 0., 1., 0.],\n",
       "       [1., 0., 0., 0.],\n",
       "       ...,\n",
       "       [0., 0., 0., 1.],\n",
       "       [0., 0., 0., 1.],\n",
       "       [0., 0., 1., 0.]])"
      ]
     },
     "execution_count": 15,
     "metadata": {},
     "output_type": "execute_result"
    }
   ],
   "source": [
    "#por fin y_test esta en la forma que queremos\n",
    "y_test\n"
   ]
  },
  {
   "cell_type": "code",
   "execution_count": 16,
   "metadata": {},
   "outputs": [],
   "source": [
    "#ahora hago lo mismo con y Y_train"
   ]
  },
  {
   "cell_type": "code",
   "execution_count": 17,
   "metadata": {},
   "outputs": [
    {
     "data": {
      "text/plain": [
       "array(['red', 'black', 'black', ..., 'white', 'white', 'red'], dtype='<U5')"
      ]
     },
     "execution_count": 17,
     "metadata": {},
     "output_type": "execute_result"
    }
   ],
   "source": [
    "y_train"
   ]
  },
  {
   "cell_type": "code",
   "execution_count": 18,
   "metadata": {},
   "outputs": [],
   "source": [
    "y_train= y_train.reshape(-1, 1)"
   ]
  },
  {
   "cell_type": "code",
   "execution_count": 19,
   "metadata": {},
   "outputs": [
    {
     "data": {
      "text/plain": [
       "OneHotEncoder()"
      ]
     },
     "execution_count": 19,
     "metadata": {},
     "output_type": "execute_result"
    }
   ],
   "source": [
    "enc = OneHotEncoder()\n",
    "enc.fit(y_train)  "
   ]
  },
  {
   "cell_type": "code",
   "execution_count": 20,
   "metadata": {},
   "outputs": [],
   "source": [
    "y_train = enc.transform(y_train).toarray()"
   ]
  },
  {
   "cell_type": "code",
   "execution_count": 21,
   "metadata": {},
   "outputs": [
    {
     "data": {
      "text/plain": [
       "array([[0., 0., 1., 0.],\n",
       "       [1., 0., 0., 0.],\n",
       "       [1., 0., 0., 0.],\n",
       "       ...,\n",
       "       [0., 0., 0., 1.],\n",
       "       [0., 0., 0., 1.],\n",
       "       [0., 0., 1., 0.]])"
      ]
     },
     "execution_count": 21,
     "metadata": {},
     "output_type": "execute_result"
    }
   ],
   "source": [
    "y_train"
   ]
  },
  {
   "cell_type": "code",
   "execution_count": 22,
   "metadata": {},
   "outputs": [],
   "source": [
    "#ha funcionado. Tenemos y_test e y_train en el formato que necesitabamos\n",
    "# podiamos haberlo hecho antes de dividir el split del train pero he decidido hacerlo dos veces para practicar"
   ]
  },
  {
   "cell_type": "code",
   "execution_count": 23,
   "metadata": {},
   "outputs": [
    {
     "data": {
      "text/plain": [
       "array(['x0_black', 'x0_green', 'x0_red', 'x0_white'], dtype=object)"
      ]
     },
     "execution_count": 23,
     "metadata": {},
     "output_type": "execute_result"
    }
   ],
   "source": [
    "enc.get_feature_names()"
   ]
  },
  {
   "cell_type": "code",
   "execution_count": 24,
   "metadata": {},
   "outputs": [
    {
     "data": {
      "text/plain": [
       "array([['green']], dtype='<U5')"
      ]
     },
     "execution_count": 24,
     "metadata": {},
     "output_type": "execute_result"
    }
   ],
   "source": [
    "enc.inverse_transform([[0,1,0,0]])"
   ]
  },
  {
   "cell_type": "code",
   "execution_count": null,
   "metadata": {},
   "outputs": [],
   "source": []
  },
  {
   "cell_type": "code",
   "execution_count": null,
   "metadata": {},
   "outputs": [],
   "source": []
  },
  {
   "cell_type": "code",
   "execution_count": 25,
   "metadata": {},
   "outputs": [],
   "source": [
    "# Codigo para para correr el modelo de red neuronal. "
   ]
  },
  {
   "cell_type": "code",
   "execution_count": 26,
   "metadata": {},
   "outputs": [
    {
     "name": "stdout",
     "output_type": "stream",
     "text": [
      "Epoch 1/20\n",
      "84/84 [==============================] - 12s 148ms/step - loss: 0.3625 - accuracy: 0.6964 - val_loss: 0.2200 - val_accuracy: 0.8340\n",
      "Epoch 2/20\n",
      "84/84 [==============================] - 14s 163ms/step - loss: 0.1955 - accuracy: 0.8652 - val_loss: 0.1601 - val_accuracy: 0.8908\n",
      "Epoch 3/20\n",
      "84/84 [==============================] - 15s 181ms/step - loss: 0.1403 - accuracy: 0.9053 - val_loss: 0.0966 - val_accuracy: 0.9356\n",
      "Epoch 4/20\n",
      "84/84 [==============================] - 15s 180ms/step - loss: 0.1038 - accuracy: 0.9314 - val_loss: 0.0774 - val_accuracy: 0.9442\n",
      "Epoch 5/20\n",
      "84/84 [==============================] - 15s 180ms/step - loss: 0.0827 - accuracy: 0.9498 - val_loss: 0.0715 - val_accuracy: 0.9475\n",
      "Epoch 6/20\n",
      "84/84 [==============================] - 14s 172ms/step - loss: 0.0741 - accuracy: 0.9535 - val_loss: 0.0628 - val_accuracy: 0.9590\n",
      "Epoch 7/20\n",
      "84/84 [==============================] - 15s 181ms/step - loss: 0.0679 - accuracy: 0.9565 - val_loss: 0.0529 - val_accuracy: 0.9652\n",
      "Epoch 8/20\n",
      "84/84 [==============================] - 15s 178ms/step - loss: 0.0597 - accuracy: 0.9636 - val_loss: 0.0461 - val_accuracy: 0.9723\n",
      "Epoch 9/20\n",
      "84/84 [==============================] - 15s 175ms/step - loss: 0.0533 - accuracy: 0.9666 - val_loss: 0.0487 - val_accuracy: 0.9690\n",
      "Epoch 10/20\n",
      "84/84 [==============================] - 15s 176ms/step - loss: 0.0523 - accuracy: 0.9660 - val_loss: 0.0444 - val_accuracy: 0.9704\n",
      "Epoch 11/20\n",
      "84/84 [==============================] - 15s 176ms/step - loss: 0.0431 - accuracy: 0.9725 - val_loss: 0.0461 - val_accuracy: 0.9757\n",
      "Epoch 12/20\n",
      "84/84 [==============================] - 15s 176ms/step - loss: 0.0411 - accuracy: 0.9754 - val_loss: 0.0637 - val_accuracy: 0.9542\n",
      "Epoch 13/20\n",
      "84/84 [==============================] - 15s 176ms/step - loss: 0.0390 - accuracy: 0.9778 - val_loss: 0.0347 - val_accuracy: 0.9771\n",
      "Epoch 14/20\n",
      "84/84 [==============================] - 15s 175ms/step - loss: 0.0340 - accuracy: 0.9791 - val_loss: 0.0472 - val_accuracy: 0.9671\n",
      "Epoch 15/20\n",
      "84/84 [==============================] - 15s 176ms/step - loss: 0.0334 - accuracy: 0.9801 - val_loss: 0.0380 - val_accuracy: 0.9804\n",
      "Epoch 16/20\n",
      "84/84 [==============================] - 15s 176ms/step - loss: 0.0302 - accuracy: 0.9818 - val_loss: 0.0349 - val_accuracy: 0.9833\n",
      "Epoch 17/20\n",
      "84/84 [==============================] - 15s 174ms/step - loss: 0.0277 - accuracy: 0.9828 - val_loss: 0.0446 - val_accuracy: 0.9757\n",
      "Epoch 18/20\n",
      "84/84 [==============================] - 15s 177ms/step - loss: 0.0277 - accuracy: 0.9837 - val_loss: 0.0293 - val_accuracy: 0.9819\n",
      "Epoch 19/20\n",
      "84/84 [==============================] - 15s 176ms/step - loss: 0.0250 - accuracy: 0.9832 - val_loss: 0.0457 - val_accuracy: 0.9762\n",
      "Epoch 20/20\n",
      "84/84 [==============================] - 15s 175ms/step - loss: 0.0244 - accuracy: 0.9852 - val_loss: 0.0401 - val_accuracy: 0.9728\n"
     ]
    },
    {
     "data": {
      "text/plain": [
       "<tensorflow.python.keras.callbacks.History at 0x7fd62a075240>"
      ]
     },
     "execution_count": 26,
     "metadata": {},
     "output_type": "execute_result"
    }
   ],
   "source": [
    "batch_size = 100\n",
    "epochs = 20\n",
    "\n",
    "model.fit(X_train, y_train,\n",
    "          batch_size=batch_size,\n",
    "          epochs=epochs,\n",
    "          verbose=1,\n",
    "          validation_data=(X_test, y_test))\n",
    "\n"
   ]
  },
  {
   "cell_type": "code",
   "execution_count": null,
   "metadata": {},
   "outputs": [],
   "source": []
  },
  {
   "cell_type": "code",
   "execution_count": null,
   "metadata": {},
   "outputs": [],
   "source": [
    "# PRUEBAS"
   ]
  },
  {
   "cell_type": "code",
   "execution_count": 31,
   "metadata": {},
   "outputs": [
    {
     "data": {
      "text/plain": [
       "array([[9.9999976e-01, 6.4836332e-09, 1.1157968e-09, 1.2618054e-12]],\n",
       "      dtype=float32)"
      ]
     },
     "execution_count": 31,
     "metadata": {},
     "output_type": "execute_result"
    }
   ],
   "source": [
    "X_test[45].shape\n",
    "model.predict(np.array([X_test[2000]]))\n",
    "#nos dice cual es la prediccion del modelo"
   ]
  },
  {
   "cell_type": "code",
   "execution_count": 38,
   "metadata": {},
   "outputs": [
    {
     "data": {
      "text/plain": [
       "array(['x0_black', 'x0_green', 'x0_red', 'x0_white'], dtype=object)"
      ]
     },
     "execution_count": 38,
     "metadata": {},
     "output_type": "execute_result"
    }
   ],
   "source": [
    "enc.get_feature_names()\n",
    "# y hay que recordar que los colores marcados son:"
   ]
  },
  {
   "cell_type": "code",
   "execution_count": 33,
   "metadata": {},
   "outputs": [
    {
     "data": {
      "text/plain": [
       "array([['black']], dtype='<U5')"
      ]
     },
     "execution_count": 33,
     "metadata": {},
     "output_type": "execute_result"
    }
   ],
   "source": [
    "enc.inverse_transform([[9.9999976e-01, 6.4836332e-09, 1.1157968e-09, 1.2618054e-12]])\n",
    "#nos da el resultado mas probable en una tuple. \n"
   ]
  },
  {
   "cell_type": "code",
   "execution_count": 37,
   "metadata": {},
   "outputs": [
    {
     "data": {
      "text/plain": [
       "(64, 64, 3)"
      ]
     },
     "execution_count": 37,
     "metadata": {},
     "output_type": "execute_result"
    }
   ],
   "source": [
    "X[2000].shape"
   ]
  },
  {
   "cell_type": "code",
   "execution_count": 40,
   "metadata": {},
   "outputs": [
    {
     "data": {
      "text/plain": [
       "array([[9.9999976e-01, 6.4836332e-09, 1.1157968e-09, 1.2618054e-12]],\n",
       "      dtype=float32)"
      ]
     },
     "execution_count": 40,
     "metadata": {},
     "output_type": "execute_result"
    }
   ],
   "source": [
    "model.predict(np.array([X_test[2000]]))"
   ]
  },
  {
   "cell_type": "code",
   "execution_count": 39,
   "metadata": {},
   "outputs": [
    {
     "data": {
      "text/plain": [
       "'black'"
      ]
     },
     "execution_count": 39,
     "metadata": {},
     "output_type": "execute_result"
    }
   ],
   "source": [
    "enc.inverse_transform([[9.9999976e-01, 6.4836332e-09, 1.1157968e-09, 1.2618054e-12]])[0][0]\n",
    "# le digo que me muestre solo el primer elemento, que es el color"
   ]
  },
  {
   "cell_type": "code",
   "execution_count": 41,
   "metadata": {},
   "outputs": [
    {
     "data": {
      "text/plain": [
       "array([[[0.15078995, 0.14719772, 0.14624406],\n",
       "        [0.14945908, 0.14606556, 0.1452462 ],\n",
       "        [0.15799422, 0.15385421, 0.15314105],\n",
       "        ...,\n",
       "        [0.11984021, 0.11786016, 0.11817176],\n",
       "        [0.11361113, 0.11999259, 0.11899661],\n",
       "        [0.11617704, 0.11853353, 0.11780818]],\n",
       "\n",
       "       [[0.16084261, 0.1570109 , 0.15599366],\n",
       "        [0.15705869, 0.15349262, 0.1526316 ],\n",
       "        [0.15034934, 0.14640965, 0.145731  ],\n",
       "        ...,\n",
       "        [0.13114589, 0.12897905, 0.12932004],\n",
       "        [0.12724447, 0.1333251 , 0.13246792],\n",
       "        [0.120733  , 0.1230065 , 0.12233926]],\n",
       "\n",
       "       [[0.14827678, 0.14965101, 0.14624406],\n",
       "        [0.15199228, 0.14854125, 0.147708  ],\n",
       "        [0.16309081, 0.15385421, 0.15561106],\n",
       "        ...,\n",
       "        [0.13792929, 0.13565038, 0.136009  ],\n",
       "        [0.12951669, 0.12665885, 0.12797749],\n",
       "        [0.14579079, 0.14313483, 0.14499468]],\n",
       "\n",
       "       ...,\n",
       "\n",
       "       [[0.09298713, 0.09567852, 0.09262124],\n",
       "        [0.09372857, 0.09655181, 0.0935484 ],\n",
       "        [0.09428687, 0.09677926, 0.09386064],\n",
       "        ...,\n",
       "        [0.11079566, 0.10896506, 0.10925313],\n",
       "        [0.14315003, 0.13999136, 0.1414488 ],\n",
       "        [0.11617704, 0.11406057, 0.11554263]],\n",
       "\n",
       "       [[0.09298713, 0.09077193, 0.09018384],\n",
       "        [0.09119537, 0.08912475, 0.0886248 ],\n",
       "        [0.08664199, 0.08437166, 0.08398057],\n",
       "        ...,\n",
       "        [0.11984021, 0.11786016, 0.11817176],\n",
       "        [0.1204278 , 0.11777051, 0.11899661],\n",
       "        [0.11389906, 0.11182409, 0.11327709]],\n",
       "\n",
       "       [[0.14325045, 0.13983783, 0.13893185],\n",
       "        [0.14692587, 0.14358987, 0.1427844 ],\n",
       "        [0.14015616, 0.13648357, 0.13585093],\n",
       "        ...,\n",
       "        [0.1447127 , 0.14232171, 0.14269797],\n",
       "        [0.12951669, 0.12665885, 0.12797749],\n",
       "        [0.120733  , 0.11853353, 0.12007372]]])"
      ]
     },
     "execution_count": 41,
     "metadata": {},
     "output_type": "execute_result"
    }
   ],
   "source": [
    "X_test[2000]"
   ]
  },
  {
   "cell_type": "code",
   "execution_count": 86,
   "metadata": {},
   "outputs": [],
   "source": [
    "def car_colour (im):\n",
    "    x = model.predict(np.array([im]))\n",
    "    \n",
    "    return x[0]"
   ]
  },
  {
   "cell_type": "code",
   "execution_count": 87,
   "metadata": {},
   "outputs": [
    {
     "name": "stdout",
     "output_type": "stream",
     "text": [
      "[1. 0. 0. 0.]\n"
     ]
    }
   ],
   "source": [
    "print (car_colour (X[600]))"
   ]
  },
  {
   "cell_type": "code",
   "execution_count": 88,
   "metadata": {},
   "outputs": [
    {
     "ename": "SyntaxError",
     "evalue": "invalid syntax (<ipython-input-88-3e238f67da9e>, line 1)",
     "output_type": "error",
     "traceback": [
      "\u001b[0;36m  File \u001b[0;32m\"<ipython-input-88-3e238f67da9e>\"\u001b[0;36m, line \u001b[0;32m1\u001b[0m\n\u001b[0;31m    enc.inverse_transform([[1. 0. 0. 0.]])[0][0]\u001b[0m\n\u001b[0m                                ^\u001b[0m\n\u001b[0;31mSyntaxError\u001b[0m\u001b[0;31m:\u001b[0m invalid syntax\n"
     ]
    }
   ],
   "source": [
    "enc.inverse_transform([[1. 0. 0. 0.]])[0][0]"
   ]
  },
  {
   "cell_type": "code",
   "execution_count": 118,
   "metadata": {},
   "outputs": [],
   "source": [
    "# las imagenes deben ser metidas como el array de arriba, de X[2000]\n",
    "def car_colour (im):\n",
    "    x = model.predict(np.array([im]))\n",
    "    y = enc.inverse_transform([x[0]])[0][0]\n",
    "    if y=='black':\n",
    "        return f'The color of the car in the picture is {y}, like my soul'\n",
    "    elif y== \"red\":\n",
    "        return f'The color of the car in the picture is {y}, like the communist you are'\n",
    "    elif y== \"yellow\":\n",
    "        return f'The color of the car in the picture is {y}, like \"hielo\" in english'\n",
    "    elif y==\"white\":\n",
    "        return f\"The color of the car in the picture is {y}, like the white russian I'll have this evening\""
   ]
  },
  {
   "cell_type": "code",
   "execution_count": 121,
   "metadata": {},
   "outputs": [
    {
     "name": "stdout",
     "output_type": "stream",
     "text": [
      "The color of the car in the picture is white, like the white russian I'll have this evening\n"
     ]
    }
   ],
   "source": [
    "print (car_colour (X[7000]))"
   ]
  },
  {
   "cell_type": "code",
   "execution_count": 99,
   "metadata": {},
   "outputs": [
    {
     "data": {
      "text/plain": [
       "(10485, 64, 64, 3)"
      ]
     },
     "execution_count": 99,
     "metadata": {},
     "output_type": "execute_result"
    }
   ],
   "source": [
    "X.shape"
   ]
  },
  {
   "cell_type": "code",
   "execution_count": null,
   "metadata": {},
   "outputs": [],
   "source": [
    "# Que alguien me explique porque funciona cuando lo hago todo del tiron en la misma funcion \n",
    "# pero no cuando lo hago por partes.\n",
    "\n",
    "#le puedo poner un random choice para que diga distintas estupideces al azar segun el color\n",
    "\n",
    "# "
   ]
  }
 ],
 "metadata": {
  "kernelspec": {
   "display_name": "Python 3",
   "language": "python",
   "name": "python3"
  },
  "language_info": {
   "codemirror_mode": {
    "name": "ipython",
    "version": 3
   },
   "file_extension": ".py",
   "mimetype": "text/x-python",
   "name": "python",
   "nbconvert_exporter": "python",
   "pygments_lexer": "ipython3",
   "version": "3.6.9"
  }
 },
 "nbformat": 4,
 "nbformat_minor": 4
}
