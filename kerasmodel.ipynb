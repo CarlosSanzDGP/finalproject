{
 "cells": [
  {
   "cell_type": "code",
   "execution_count": 2,
   "metadata": {},
   "outputs": [],
   "source": [
    "\n",
    "from sklearn.model_selection import train_test_split\n",
    "#from __future__ import print_function\n",
    "import keras\n",
    "from keras.datasets import mnist\n",
    "from keras.models import Sequential\n",
    "from keras.layers import Dense, Dropout, Flatten\n",
    "from keras.layers import Conv2D, MaxPooling2D\n",
    "from keras import backend as K\n",
    "import pandas as pd\n",
    "import numpy as np\n",
    "from keras.optimizers import SGD\n",
    "from keras.preprocessing.image import ImageDataGenerator\n",
    "from keras.layers import Activation, Dropout, Flatten, Dense\n",
    "import tensorflow as tf\n",
    "from os import listdir\n",
    "from PIL import Image\n",
    "import glob, os\n",
    "from os import listdir\n",
    "from os.path import isfile, join\n",
    "import numpy as np\n",
    "from pandas import DataFrame\n",
    "import pandas as pd\n",
    "from matplotlib import pyplot as plt"
   ]
  },
  {
   "cell_type": "code",
   "execution_count": 3,
   "metadata": {},
   "outputs": [],
   "source": [
    "# las funciones anteriores. Poner a parte e importar"
   ]
  },
  {
   "cell_type": "code",
   "execution_count": 3,
   "metadata": {},
   "outputs": [],
   "source": [
    "def resize_image(imagen,size,output=False):\n",
    "    im = Image.open(imagen)\n",
    "    rgb_image = RGBA_a_RGB(im)\n",
    "    im_rgb = rgb_image.resize(size)\n",
    "    \n",
    "    if not output:\n",
    "        return im_rgb \n",
    "    onlyfiles = [f for f in listdir(output) if isfile(join(output, f))]\n",
    "    if image not in onlyfiles:\n",
    "        im.save(output)\n",
    "        return im_rgb\n",
    "    else:\n",
    "        print(\"file already exists, continuing to next one\") \n",
    "        return im_rgb"
   ]
  },
  {
   "cell_type": "code",
   "execution_count": 4,
   "metadata": {},
   "outputs": [],
   "source": [
    "def RGBA_a_RGB(image1):\n",
    "    if image1.mode == \"RGBA\":\n",
    "        background = Image.new(\"RGB\", image1.size, (255, 255, 255))\n",
    "        background.paste(image1, mask = image1.split()[3])\n",
    "        background.save(f\"{image1}\", \"JPEG\", quality=100)\n",
    "        rgb_image = Image.open(f\"{image1}\")\n",
    "        return rgb_image\n",
    "    return image1"
   ]
  },
  {
   "cell_type": "code",
   "execution_count": 5,
   "metadata": {},
   "outputs": [],
   "source": [
    "def image_to_array(image):\n",
    "    im_np= np.asarray(image)\n",
    "    one_line=im_np.ravel()\n",
    "    return one_line"
   ]
  },
  {
   "cell_type": "code",
   "execution_count": 6,
   "metadata": {},
   "outputs": [],
   "source": [
    "paths={\"black\":\"INPUT/black/\",\n",
    "      \"white\":\"INPUT/white/\",\n",
    "      \"green\":\"INPUT/green/\",\n",
    "      \"red\":\"INPUT/red/\"}\n",
    "images={}\n",
    "for color,path in paths.items():\n",
    "    images[color]=[]\n",
    "    for im in listdir(path):\n",
    "        if im.endswith(\"jpg\"):\n",
    "            #size=(64,64)\n",
    "            a=resize_image(path+im,(64,64))\n",
    "            images[color].append(np.asarray(a))\n",
    "    images[color]=np.array(images[color])"
   ]
  },
  {
   "cell_type": "code",
   "execution_count": 7,
   "metadata": {},
   "outputs": [],
   "source": [
    "def image_to_array(image):\n",
    "    im_np= np.asarray(image)\n",
    "    one_line=im_np.ravel()\n",
    "    return one_line"
   ]
  },
  {
   "cell_type": "code",
   "execution_count": 8,
   "metadata": {},
   "outputs": [],
   "source": [
    "X= np.concatenate(list(images.values()),axis=0)\n",
    "y = np.concatenate([[k]* v.shape[0] for k,v in images.items()])"
   ]
  },
  {
   "cell_type": "code",
   "execution_count": null,
   "metadata": {},
   "outputs": [],
   "source": []
  },
  {
   "cell_type": "code",
   "execution_count": null,
   "metadata": {},
   "outputs": [],
   "source": []
  },
  {
   "cell_type": "code",
   "execution_count": null,
   "metadata": {},
   "outputs": [],
   "source": [
    "# Aqui empieza realmente. Division entre la x y la y para test"
   ]
  },
  {
   "cell_type": "code",
   "execution_count": 10,
   "metadata": {},
   "outputs": [],
   "source": [
    "X_train, X_test, y_train, y_test = train_test_split(X, y, test_size=0.2)"
   ]
  },
  {
   "cell_type": "code",
   "execution_count": 11,
   "metadata": {},
   "outputs": [
    {
     "name": "stdout",
     "output_type": "stream",
     "text": [
      "x_train shape: (8388, 64, 64, 3)\n",
      "8388 train samples\n",
      "2097 test samples\n"
     ]
    }
   ],
   "source": [
    "img_width, img_height = 64, 64\n",
    "img_rows, img_cols = 64, 64\n",
    "\n",
    "# Prepare data to feed the NN\n",
    "num_classes = 4\n",
    "\n",
    "# Ask keras which format to use depending on used backend and arrange data as expected\n",
    "if K.image_data_format() == 'channels_first':\n",
    "    X_train = x_train.reshape(X_train.shape[0], 3, img_rows, img_cols)\n",
    "    X_test = x_test.reshape(X_test.shape[0], 3, img_rows, img_cols)\n",
    "    input_shape = (3, img_width, img_height)\n",
    "else:\n",
    "    X_train = X_train.reshape(X_train.shape[0], img_rows, img_cols, 3)\n",
    "    X_test = X_test.reshape(X_test.shape[0], img_rows, img_cols, 3)\n",
    "    input_shape = (img_width, img_height, 3)\n",
    "\n",
    "# Incoming data is in uint8. Cast the input data images to be floats in range [0.0-1.0]  \n",
    "X_train = tf.keras.utils.normalize(X_train,axis=1)\n",
    "X_test = tf.keras.utils.normalize(X_test,axis=1)\n",
    "#X_train = X_train.astype('float32') / 255\n",
    "#X_test = X_test.astype('float32') / 255\n",
    "\n",
    "print('x_train shape:', X_train.shape)\n",
    "print(X_train.shape[0], 'train samples')\n",
    "print(X_test.shape[0], 'test samples')"
   ]
  },
  {
   "cell_type": "code",
   "execution_count": 12,
   "metadata": {},
   "outputs": [],
   "source": [
    "img_width, img_height = 64, 64\n",
    "\n",
    "model = Sequential()\n",
    "model.add(Conv2D(32, (3, 3), input_shape=input_shape))\n",
    "model.add(Activation('relu'))\n",
    "model.add(MaxPooling2D(pool_size=(2, 2)))\n",
    "#model.add(tf.keras.layers.Flatten())\n",
    "\n",
    "model.add(Conv2D(32, (3, 3)))\n",
    "model.add(Activation('relu'))\n",
    "model.add(MaxPooling2D(pool_size=(2, 2)))\n",
    "\n",
    "model.add(Conv2D(64, (3, 3)))\n",
    "model.add(Activation('relu'))\n",
    "model.add(MaxPooling2D(pool_size=(2, 2)))\n",
    "\n",
    "model.add(Flatten())\n",
    "model.add(Dense(64))\n",
    "model.add(Activation('relu'))\n",
    "model.add(Dropout(0.5))\n",
    "model.add(Dense(4))\n",
    "model.add(Activation('sigmoid'))\n",
    "\n",
    "model.compile(loss='binary_crossentropy',\n",
    "              optimizer='rmsprop',\n",
    "              metrics=['accuracy'])"
   ]
  },
  {
   "cell_type": "code",
   "execution_count": null,
   "metadata": {},
   "outputs": [],
   "source": []
  },
  {
   "cell_type": "code",
   "execution_count": null,
   "metadata": {},
   "outputs": [],
   "source": []
  },
  {
   "cell_type": "code",
   "execution_count": 16,
   "metadata": {},
   "outputs": [],
   "source": [
    "\n",
    " from sklearn.preprocessing import OneHotEncoder"
   ]
  },
  {
   "cell_type": "code",
   "execution_count": 13,
   "metadata": {},
   "outputs": [
    {
     "data": {
      "text/plain": [
       "array(['white', 'white', 'black', ..., 'red', 'white', 'red'], dtype='<U5')"
      ]
     },
     "execution_count": 13,
     "metadata": {},
     "output_type": "execute_result"
    }
   ],
   "source": [
    "##1\n",
    "y_test\n"
   ]
  },
  {
   "cell_type": "code",
   "execution_count": 14,
   "metadata": {},
   "outputs": [
    {
     "data": {
      "text/plain": [
       "array([['white'],\n",
       "       ['white'],\n",
       "       ['black'],\n",
       "       ...,\n",
       "       ['red'],\n",
       "       ['white'],\n",
       "       ['red']], dtype='<U5')"
      ]
     },
     "execution_count": 14,
     "metadata": {},
     "output_type": "execute_result"
    }
   ],
   "source": [
    "###2 Hacemos el reshape, luego onehot encoder, luego fit y por ultimo toarray\n",
    "y_test= y_test.reshape(-1, 1)\n",
    "y_test"
   ]
  },
  {
   "cell_type": "code",
   "execution_count": 17,
   "metadata": {},
   "outputs": [
    {
     "data": {
      "text/plain": [
       "OneHotEncoder()"
      ]
     },
     "execution_count": 17,
     "metadata": {},
     "output_type": "execute_result"
    }
   ],
   "source": [
    "##3\n",
    "enc = OneHotEncoder()\n",
    "enc.fit(y_test)  "
   ]
  },
  {
   "cell_type": "code",
   "execution_count": 22,
   "metadata": {},
   "outputs": [],
   "source": [
    "y_test = enc.transform(y_test).toarray()"
   ]
  },
  {
   "cell_type": "code",
   "execution_count": 23,
   "metadata": {},
   "outputs": [
    {
     "data": {
      "text/plain": [
       "array([[0., 0., 0., 1.],\n",
       "       [0., 0., 0., 1.],\n",
       "       [1., 0., 0., 0.],\n",
       "       ...,\n",
       "       [0., 0., 1., 0.],\n",
       "       [0., 0., 0., 1.],\n",
       "       [0., 0., 1., 0.]])"
      ]
     },
     "execution_count": 23,
     "metadata": {},
     "output_type": "execute_result"
    }
   ],
   "source": [
    "#por fin y_test esta en la forma que queremos\n",
    "y_test\n"
   ]
  },
  {
   "cell_type": "code",
   "execution_count": null,
   "metadata": {},
   "outputs": [],
   "source": [
    "#ahora hago lo mismo con y Y_train"
   ]
  },
  {
   "cell_type": "code",
   "execution_count": 24,
   "metadata": {},
   "outputs": [
    {
     "data": {
      "text/plain": [
       "array(['white', 'red', 'white', ..., 'black', 'black', 'white'],\n",
       "      dtype='<U5')"
      ]
     },
     "execution_count": 24,
     "metadata": {},
     "output_type": "execute_result"
    }
   ],
   "source": [
    "y_train"
   ]
  },
  {
   "cell_type": "code",
   "execution_count": 25,
   "metadata": {},
   "outputs": [],
   "source": [
    "y_train= y_train.reshape(-1, 1)"
   ]
  },
  {
   "cell_type": "code",
   "execution_count": 26,
   "metadata": {},
   "outputs": [
    {
     "data": {
      "text/plain": [
       "OneHotEncoder()"
      ]
     },
     "execution_count": 26,
     "metadata": {},
     "output_type": "execute_result"
    }
   ],
   "source": [
    "enc = OneHotEncoder()\n",
    "enc.fit(y_train)  "
   ]
  },
  {
   "cell_type": "code",
   "execution_count": 27,
   "metadata": {},
   "outputs": [],
   "source": [
    "y_train = enc.transform(y_train).toarray()"
   ]
  },
  {
   "cell_type": "code",
   "execution_count": 28,
   "metadata": {},
   "outputs": [
    {
     "data": {
      "text/plain": [
       "array([[0., 0., 0., 1.],\n",
       "       [0., 0., 1., 0.],\n",
       "       [0., 0., 0., 1.],\n",
       "       ...,\n",
       "       [1., 0., 0., 0.],\n",
       "       [1., 0., 0., 0.],\n",
       "       [0., 0., 0., 1.]])"
      ]
     },
     "execution_count": 28,
     "metadata": {},
     "output_type": "execute_result"
    }
   ],
   "source": [
    "y_train"
   ]
  },
  {
   "cell_type": "code",
   "execution_count": null,
   "metadata": {},
   "outputs": [],
   "source": [
    "#ha funcionado. Tenemos y_test e y_train en el formato que necesitabamos\n",
    "# podiamos haberlo hecho antes de dividir el split del train pero he decidido hacerlo dos veces para practicar"
   ]
  },
  {
   "cell_type": "code",
   "execution_count": 29,
   "metadata": {},
   "outputs": [
    {
     "data": {
      "text/plain": [
       "array(['x0_black', 'x0_green', 'x0_red', 'x0_white'], dtype=object)"
      ]
     },
     "execution_count": 29,
     "metadata": {},
     "output_type": "execute_result"
    }
   ],
   "source": [
    "enc.get_feature_names()"
   ]
  },
  {
   "cell_type": "code",
   "execution_count": 30,
   "metadata": {},
   "outputs": [
    {
     "data": {
      "text/plain": [
       "array([['green']], dtype='<U5')"
      ]
     },
     "execution_count": 30,
     "metadata": {},
     "output_type": "execute_result"
    }
   ],
   "source": [
    "enc.inverse_transform([[0,1,0,0]])"
   ]
  },
  {
   "cell_type": "code",
   "execution_count": null,
   "metadata": {},
   "outputs": [],
   "source": []
  },
  {
   "cell_type": "code",
   "execution_count": null,
   "metadata": {},
   "outputs": [],
   "source": []
  },
  {
   "cell_type": "code",
   "execution_count": null,
   "metadata": {},
   "outputs": [],
   "source": []
  },
  {
   "cell_type": "code",
   "execution_count": null,
   "metadata": {},
   "outputs": [],
   "source": []
  },
  {
   "cell_type": "code",
   "execution_count": null,
   "metadata": {},
   "outputs": [],
   "source": [
    "#para correr el modelo"
   ]
  },
  {
   "cell_type": "code",
   "execution_count": 31,
   "metadata": {},
   "outputs": [
    {
     "name": "stdout",
     "output_type": "stream",
     "text": [
      "Epoch 1/20\n",
      "84/84 [==============================] - 13s 154ms/step - loss: 0.3390 - accuracy: 0.7171 - val_loss: 0.1954 - val_accuracy: 0.8493\n",
      "Epoch 2/20\n",
      "84/84 [==============================] - 14s 167ms/step - loss: 0.1843 - accuracy: 0.8686 - val_loss: 0.1106 - val_accuracy: 0.9185\n",
      "Epoch 3/20\n",
      "84/84 [==============================] - 14s 170ms/step - loss: 0.1274 - accuracy: 0.9118 - val_loss: 0.1026 - val_accuracy: 0.9247\n",
      "Epoch 4/20\n",
      "84/84 [==============================] - 15s 177ms/step - loss: 0.0948 - accuracy: 0.9374 - val_loss: 0.0565 - val_accuracy: 0.9623\n",
      "Epoch 5/20\n",
      "84/84 [==============================] - 14s 170ms/step - loss: 0.0784 - accuracy: 0.9500 - val_loss: 0.0467 - val_accuracy: 0.9704\n",
      "Epoch 6/20\n",
      "84/84 [==============================] - 15s 173ms/step - loss: 0.0695 - accuracy: 0.9557 - val_loss: 0.0375 - val_accuracy: 0.9790\n",
      "Epoch 7/20\n",
      "84/84 [==============================] - 15s 173ms/step - loss: 0.0594 - accuracy: 0.9616 - val_loss: 0.0409 - val_accuracy: 0.9776\n",
      "Epoch 8/20\n",
      "84/84 [==============================] - 14s 170ms/step - loss: 0.0518 - accuracy: 0.9691 - val_loss: 0.0336 - val_accuracy: 0.9771\n",
      "Epoch 9/20\n",
      "84/84 [==============================] - 14s 169ms/step - loss: 0.0503 - accuracy: 0.9710 - val_loss: 0.0326 - val_accuracy: 0.9828\n",
      "Epoch 10/20\n",
      "84/84 [==============================] - 14s 169ms/step - loss: 0.0420 - accuracy: 0.9727 - val_loss: 0.0249 - val_accuracy: 0.9871\n",
      "Epoch 11/20\n",
      "84/84 [==============================] - 14s 168ms/step - loss: 0.0411 - accuracy: 0.9754 - val_loss: 0.0245 - val_accuracy: 0.9847\n",
      "Epoch 12/20\n",
      "84/84 [==============================] - 14s 169ms/step - loss: 0.0373 - accuracy: 0.9763 - val_loss: 0.0236 - val_accuracy: 0.9876\n",
      "Epoch 13/20\n",
      "84/84 [==============================] - 14s 170ms/step - loss: 0.0309 - accuracy: 0.9810 - val_loss: 0.0224 - val_accuracy: 0.9890\n",
      "Epoch 14/20\n",
      "84/84 [==============================] - 14s 169ms/step - loss: 0.0304 - accuracy: 0.9810 - val_loss: 0.0300 - val_accuracy: 0.9828\n",
      "Epoch 15/20\n",
      "84/84 [==============================] - 15s 173ms/step - loss: 0.0291 - accuracy: 0.9815 - val_loss: 0.0200 - val_accuracy: 0.9890\n",
      "Epoch 16/20\n",
      "84/84 [==============================] - 14s 170ms/step - loss: 0.0279 - accuracy: 0.9830 - val_loss: 0.0210 - val_accuracy: 0.9919\n",
      "Epoch 17/20\n",
      "84/84 [==============================] - 14s 170ms/step - loss: 0.0233 - accuracy: 0.9849 - val_loss: 0.0218 - val_accuracy: 0.9890\n",
      "Epoch 18/20\n",
      "84/84 [==============================] - 14s 170ms/step - loss: 0.0224 - accuracy: 0.9862 - val_loss: 0.0218 - val_accuracy: 0.9881\n",
      "Epoch 19/20\n",
      "84/84 [==============================] - 14s 169ms/step - loss: 0.0211 - accuracy: 0.9890 - val_loss: 0.0280 - val_accuracy: 0.9857\n",
      "Epoch 20/20\n",
      "84/84 [==============================] - 15s 178ms/step - loss: 0.0200 - accuracy: 0.9874 - val_loss: 0.0249 - val_accuracy: 0.9871\n"
     ]
    },
    {
     "data": {
      "text/plain": [
       "<tensorflow.python.keras.callbacks.History at 0x7f3d3c87d400>"
      ]
     },
     "execution_count": 31,
     "metadata": {},
     "output_type": "execute_result"
    }
   ],
   "source": [
    "batch_size = 100\n",
    "epochs = 20\n",
    "\n",
    "model.fit(X_train, y_train,\n",
    "          batch_size=batch_size,\n",
    "          epochs=epochs,\n",
    "          verbose=1,\n",
    "          validation_data=(X_test, y_test))\n",
    "\n"
   ]
  },
  {
   "cell_type": "code",
   "execution_count": 33,
   "metadata": {},
   "outputs": [
    {
     "data": {
      "text/plain": [
       "array([[3.6540296e-06, 4.2794942e-05, 7.4690814e-07, 9.9993980e-01]],\n",
       "      dtype=float32)"
      ]
     },
     "execution_count": 33,
     "metadata": {},
     "output_type": "execute_result"
    }
   ],
   "source": [
    "X_test[45].shape\n",
    "model.predict(np.array([X_test[403]]))"
   ]
  },
  {
   "cell_type": "code",
   "execution_count": null,
   "metadata": {},
   "outputs": [],
   "source": [
    "\n"
   ]
  },
  {
   "cell_type": "code",
   "execution_count": null,
   "metadata": {},
   "outputs": [],
   "source": [
    "\n"
   ]
  }
 ],
 "metadata": {
  "kernelspec": {
   "display_name": "Python 3",
   "language": "python",
   "name": "python3"
  },
  "language_info": {
   "codemirror_mode": {
    "name": "ipython",
    "version": 3
   },
   "file_extension": ".py",
   "mimetype": "text/x-python",
   "name": "python",
   "nbconvert_exporter": "python",
   "pygments_lexer": "ipython3",
   "version": "3.6.9"
  }
 },
 "nbformat": 4,
 "nbformat_minor": 4
}
