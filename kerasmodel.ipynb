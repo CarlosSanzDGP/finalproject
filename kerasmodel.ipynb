{
 "cells": [
  {
   "cell_type": "code",
   "execution_count": 1,
   "metadata": {},
   "outputs": [],
   "source": [
    "\n",
    "from sklearn.model_selection import train_test_split\n",
    "import keras\n",
    "from keras.datasets import mnist\n",
    "from keras.models import Sequential\n",
    "from keras.layers import Dense, Dropout, Flatten\n",
    "from keras.layers import Conv2D, MaxPooling2D\n",
    "from keras import backend as K\n",
    "import pandas as pd\n",
    "import numpy as np\n",
    "from keras.optimizers import SGD\n",
    "from keras.preprocessing.image import ImageDataGenerator\n",
    "from keras.layers import Activation, Dropout, Flatten, Dense\n",
    "import tensorflow as tf\n",
    "from os import listdir\n",
    "from PIL import Image\n",
    "import glob, os\n",
    "from os import listdir\n",
    "from os.path import isfile, join\n",
    "import numpy as np\n",
    "from pandas import DataFrame\n",
    "import pandas as pd\n",
    "from matplotlib import pyplot as plt\n",
    "#from __future__ import print_function\n",
    "\n",
    "from transform import *\n",
    "#estas son mis funciones traidas del jupyter contiguo"
   ]
  },
  {
   "cell_type": "code",
   "execution_count": 5,
   "metadata": {},
   "outputs": [],
   "source": []
  },
  {
   "cell_type": "code",
   "execution_count": 2,
   "metadata": {},
   "outputs": [],
   "source": [
    "paths={\"black\":\"INPUT/black/\",\n",
    "      \"white\":\"INPUT/white/\",\n",
    "      \"green\":\"INPUT/green/\",\n",
    "      \"red\":\"INPUT/red/\"}\n",
    "images={}\n",
    "for color,path in paths.items():\n",
    "    images[color]=[]\n",
    "    for im in listdir(path):\n",
    "        if im.endswith(\"jpg\"):\n",
    "            #size=(64,64)\n",
    "            a=resize_image(path+im,(64,64))\n",
    "            images[color].append(np.asarray(a))\n",
    "    images[color]=np.array(images[color])"
   ]
  },
  {
   "cell_type": "code",
   "execution_count": 3,
   "metadata": {},
   "outputs": [],
   "source": [
    "X= np.concatenate(list(images.values()),axis=0)\n",
    "y = np.concatenate([[k]* v.shape[0] for k,v in images.items()])"
   ]
  },
  {
   "cell_type": "code",
   "execution_count": null,
   "metadata": {},
   "outputs": [],
   "source": []
  },
  {
   "cell_type": "code",
   "execution_count": null,
   "metadata": {},
   "outputs": [],
   "source": []
  },
  {
   "cell_type": "code",
   "execution_count": null,
   "metadata": {},
   "outputs": [],
   "source": [
    "# Division entre la x y la y para test\n",
    "#Ojo, normalmente convertiriamos el onehotencoder antes de esta division para ahorrarnos un paso"
   ]
  },
  {
   "cell_type": "code",
   "execution_count": 4,
   "metadata": {},
   "outputs": [],
   "source": [
    "X_train, X_test, y_train, y_test = train_test_split(X, y, test_size=0.2)"
   ]
  },
  {
   "cell_type": "code",
   "execution_count": 5,
   "metadata": {},
   "outputs": [
    {
     "name": "stdout",
     "output_type": "stream",
     "text": [
      "x_train shape: (8388, 64, 64, 3)\n",
      "8388 train samples\n",
      "2097 test samples\n"
     ]
    }
   ],
   "source": [
    "img_width, img_height = 64, 64\n",
    "img_rows, img_cols = 64, 64\n",
    "\n",
    "# Prepare data to feed the NN\n",
    "num_classes = 4\n",
    "\n",
    "# Ask keras which format to use depending on used backend and arrange data as expected\n",
    "if K.image_data_format() == 'channels_first':\n",
    "    X_train = x_train.reshape(X_train.shape[0], 3, img_rows, img_cols)\n",
    "    X_test = x_test.reshape(X_test.shape[0], 3, img_rows, img_cols)\n",
    "    input_shape = (3, img_width, img_height)\n",
    "else:\n",
    "    X_train = X_train.reshape(X_train.shape[0], img_rows, img_cols, 3)\n",
    "    X_test = X_test.reshape(X_test.shape[0], img_rows, img_cols, 3)\n",
    "    input_shape = (img_width, img_height, 3)\n",
    "\n",
    "# Incoming data is in uint8. Cast the input data images to be floats in range [0.0-1.0]  \n",
    "X_train = tf.keras.utils.normalize(X_train,axis=1)\n",
    "X_test = tf.keras.utils.normalize(X_test,axis=1)\n",
    "#X_train = X_train.astype('float32') / 255\n",
    "#X_test = X_test.astype('float32') / 255\n",
    "\n",
    "print('x_train shape:', X_train.shape)\n",
    "print(X_train.shape[0], 'train samples')\n",
    "print(X_test.shape[0], 'test samples')"
   ]
  },
  {
   "cell_type": "code",
   "execution_count": null,
   "metadata": {},
   "outputs": [],
   "source": [
    "#red neuronal propiamente dicha"
   ]
  },
  {
   "cell_type": "code",
   "execution_count": 6,
   "metadata": {},
   "outputs": [],
   "source": [
    "img_width, img_height = 64, 64\n",
    "\n",
    "model = Sequential()\n",
    "model.add(Conv2D(32, (3, 3), input_shape=input_shape))\n",
    "model.add(Activation('relu'))\n",
    "model.add(MaxPooling2D(pool_size=(2, 2)))\n",
    "#model.add(tf.keras.layers.Flatten())\n",
    "\n",
    "model.add(Conv2D(32, (3, 3)))\n",
    "model.add(Activation('relu'))\n",
    "model.add(MaxPooling2D(pool_size=(2, 2)))\n",
    "\n",
    "model.add(Conv2D(64, (3, 3)))\n",
    "model.add(Activation('relu'))\n",
    "model.add(MaxPooling2D(pool_size=(2, 2)))\n",
    "\n",
    "model.add(Flatten())\n",
    "model.add(Dense(64))\n",
    "model.add(Activation('relu'))\n",
    "model.add(Dropout(0.5))\n",
    "model.add(Dense(4))\n",
    "model.add(Activation('sigmoid'))\n",
    "\n",
    "model.compile(loss='binary_crossentropy',\n",
    "              optimizer='rmsprop',\n",
    "              metrics=['accuracy'])"
   ]
  },
  {
   "cell_type": "code",
   "execution_count": null,
   "metadata": {},
   "outputs": [],
   "source": []
  },
  {
   "cell_type": "code",
   "execution_count": 7,
   "metadata": {},
   "outputs": [],
   "source": [
    "# proceso de cambio de las y para poder utilizarlas en el modelo. \n",
    "# las necesitamos en el formato de array sin strings y getdummies no nos sirvio ya que \n",
    "# no podiamos obtener el color con posterioridad."
   ]
  },
  {
   "cell_type": "code",
   "execution_count": 8,
   "metadata": {},
   "outputs": [],
   "source": [
    "# importo aqui para que quede reflejado. \n",
    "from sklearn.preprocessing import OneHotEncoder"
   ]
  },
  {
   "cell_type": "code",
   "execution_count": 9,
   "metadata": {},
   "outputs": [
    {
     "data": {
      "text/plain": [
       "array(['white', 'black', 'white', ..., 'white', 'black', 'white'],\n",
       "      dtype='<U5')"
      ]
     },
     "execution_count": 9,
     "metadata": {},
     "output_type": "execute_result"
    }
   ],
   "source": [
    "y_test\n"
   ]
  },
  {
   "cell_type": "code",
   "execution_count": 10,
   "metadata": {},
   "outputs": [
    {
     "data": {
      "text/plain": [
       "array([['white'],\n",
       "       ['black'],\n",
       "       ['white'],\n",
       "       ...,\n",
       "       ['white'],\n",
       "       ['black'],\n",
       "       ['white']], dtype='<U5')"
      ]
     },
     "execution_count": 10,
     "metadata": {},
     "output_type": "execute_result"
    }
   ],
   "source": [
    "# Hacemos el reshape, luego onehot encoder, luego fit y por ultimo toarray\n",
    "y_test= y_test.reshape(-1, 1)\n",
    "y_test"
   ]
  },
  {
   "cell_type": "code",
   "execution_count": 11,
   "metadata": {},
   "outputs": [
    {
     "data": {
      "text/plain": [
       "OneHotEncoder()"
      ]
     },
     "execution_count": 11,
     "metadata": {},
     "output_type": "execute_result"
    }
   ],
   "source": [
    "##3\n",
    "enc = OneHotEncoder()\n",
    "enc.fit(y_test)  "
   ]
  },
  {
   "cell_type": "code",
   "execution_count": 12,
   "metadata": {},
   "outputs": [],
   "source": [
    "y_test = enc.transform(y_test).toarray()"
   ]
  },
  {
   "cell_type": "code",
   "execution_count": 13,
   "metadata": {},
   "outputs": [
    {
     "data": {
      "text/plain": [
       "array([[0., 0., 0., 1.],\n",
       "       [1., 0., 0., 0.],\n",
       "       [0., 0., 0., 1.],\n",
       "       ...,\n",
       "       [0., 0., 0., 1.],\n",
       "       [1., 0., 0., 0.],\n",
       "       [0., 0., 0., 1.]])"
      ]
     },
     "execution_count": 13,
     "metadata": {},
     "output_type": "execute_result"
    }
   ],
   "source": [
    "#por fin y_test esta en la forma que queremos\n",
    "y_test\n"
   ]
  },
  {
   "cell_type": "code",
   "execution_count": null,
   "metadata": {},
   "outputs": [],
   "source": [
    "#ahora hago lo mismo con y Y_train"
   ]
  },
  {
   "cell_type": "code",
   "execution_count": 14,
   "metadata": {},
   "outputs": [
    {
     "data": {
      "text/plain": [
       "array(['white', 'white', 'black', ..., 'black', 'white', 'white'],\n",
       "      dtype='<U5')"
      ]
     },
     "execution_count": 14,
     "metadata": {},
     "output_type": "execute_result"
    }
   ],
   "source": [
    "y_train"
   ]
  },
  {
   "cell_type": "code",
   "execution_count": 15,
   "metadata": {},
   "outputs": [],
   "source": [
    "y_train= y_train.reshape(-1, 1)"
   ]
  },
  {
   "cell_type": "code",
   "execution_count": 16,
   "metadata": {},
   "outputs": [
    {
     "data": {
      "text/plain": [
       "OneHotEncoder()"
      ]
     },
     "execution_count": 16,
     "metadata": {},
     "output_type": "execute_result"
    }
   ],
   "source": [
    "enc = OneHotEncoder()\n",
    "enc.fit(y_train)  "
   ]
  },
  {
   "cell_type": "code",
   "execution_count": 17,
   "metadata": {},
   "outputs": [],
   "source": [
    "y_train = enc.transform(y_train).toarray()"
   ]
  },
  {
   "cell_type": "code",
   "execution_count": 18,
   "metadata": {},
   "outputs": [
    {
     "data": {
      "text/plain": [
       "array([[0., 0., 0., 1.],\n",
       "       [0., 0., 0., 1.],\n",
       "       [1., 0., 0., 0.],\n",
       "       ...,\n",
       "       [1., 0., 0., 0.],\n",
       "       [0., 0., 0., 1.],\n",
       "       [0., 0., 0., 1.]])"
      ]
     },
     "execution_count": 18,
     "metadata": {},
     "output_type": "execute_result"
    }
   ],
   "source": [
    "y_train"
   ]
  },
  {
   "cell_type": "code",
   "execution_count": 19,
   "metadata": {},
   "outputs": [],
   "source": [
    "#ha funcionado. Tenemos y_test e y_train en el formato que necesitabamos\n",
    "# podiamos haberlo hecho antes de dividir el split del train pero he decidido hacerlo dos veces para practicar"
   ]
  },
  {
   "cell_type": "code",
   "execution_count": 20,
   "metadata": {},
   "outputs": [
    {
     "data": {
      "text/plain": [
       "array(['x0_black', 'x0_green', 'x0_red', 'x0_white'], dtype=object)"
      ]
     },
     "execution_count": 20,
     "metadata": {},
     "output_type": "execute_result"
    }
   ],
   "source": [
    "enc.get_feature_names()"
   ]
  },
  {
   "cell_type": "code",
   "execution_count": 21,
   "metadata": {},
   "outputs": [
    {
     "data": {
      "text/plain": [
       "array([['green']], dtype='<U5')"
      ]
     },
     "execution_count": 21,
     "metadata": {},
     "output_type": "execute_result"
    }
   ],
   "source": [
    "enc.inverse_transform([[0,1,0,0]])"
   ]
  },
  {
   "cell_type": "code",
   "execution_count": null,
   "metadata": {},
   "outputs": [],
   "source": []
  },
  {
   "cell_type": "code",
   "execution_count": null,
   "metadata": {},
   "outputs": [],
   "source": []
  },
  {
   "cell_type": "code",
   "execution_count": null,
   "metadata": {},
   "outputs": [],
   "source": []
  },
  {
   "cell_type": "code",
   "execution_count": null,
   "metadata": {},
   "outputs": [],
   "source": []
  },
  {
   "cell_type": "code",
   "execution_count": null,
   "metadata": {},
   "outputs": [],
   "source": [
    "# Codigo para para correr el modelo de red neuronal. "
   ]
  },
  {
   "cell_type": "code",
   "execution_count": 22,
   "metadata": {},
   "outputs": [
    {
     "name": "stdout",
     "output_type": "stream",
     "text": [
      "Epoch 1/20\n",
      "84/84 [==============================] - 12s 140ms/step - loss: 0.3361 - accuracy: 0.7252 - val_loss: 0.2005 - val_accuracy: 0.8460\n",
      "Epoch 2/20\n",
      "84/84 [==============================] - 13s 150ms/step - loss: 0.1998 - accuracy: 0.8579 - val_loss: 0.1492 - val_accuracy: 0.8856\n",
      "Epoch 3/20\n",
      "84/84 [==============================] - 14s 167ms/step - loss: 0.1508 - accuracy: 0.8943 - val_loss: 0.1037 - val_accuracy: 0.9213\n",
      "Epoch 4/20\n",
      "84/84 [==============================] - 14s 168ms/step - loss: 0.1041 - accuracy: 0.9245 - val_loss: 0.0759 - val_accuracy: 0.9528\n",
      "Epoch 5/20\n",
      "84/84 [==============================] - 14s 169ms/step - loss: 0.0818 - accuracy: 0.9440 - val_loss: 0.0705 - val_accuracy: 0.9561\n",
      "Epoch 6/20\n",
      "84/84 [==============================] - 14s 168ms/step - loss: 0.0717 - accuracy: 0.9529 - val_loss: 0.0622 - val_accuracy: 0.9619\n",
      "Epoch 7/20\n",
      "84/84 [==============================] - 14s 171ms/step - loss: 0.0616 - accuracy: 0.9620 - val_loss: 0.0544 - val_accuracy: 0.9628\n",
      "Epoch 8/20\n",
      "84/84 [==============================] - 14s 170ms/step - loss: 0.0558 - accuracy: 0.9642 - val_loss: 0.0682 - val_accuracy: 0.9566\n",
      "Epoch 9/20\n",
      "84/84 [==============================] - 14s 168ms/step - loss: 0.0488 - accuracy: 0.9704 - val_loss: 0.0671 - val_accuracy: 0.9571\n",
      "Epoch 10/20\n",
      "84/84 [==============================] - 14s 169ms/step - loss: 0.0420 - accuracy: 0.9752 - val_loss: 0.1427 - val_accuracy: 0.8884\n",
      "Epoch 11/20\n",
      "84/84 [==============================] - 14s 171ms/step - loss: 0.0415 - accuracy: 0.9752 - val_loss: 0.0470 - val_accuracy: 0.9685\n",
      "Epoch 12/20\n",
      "84/84 [==============================] - 14s 170ms/step - loss: 0.0377 - accuracy: 0.9783 - val_loss: 0.0424 - val_accuracy: 0.9790\n",
      "Epoch 13/20\n",
      "84/84 [==============================] - 14s 169ms/step - loss: 0.0354 - accuracy: 0.9778 - val_loss: 0.0409 - val_accuracy: 0.9733\n",
      "Epoch 14/20\n",
      "84/84 [==============================] - 14s 168ms/step - loss: 0.0312 - accuracy: 0.9840 - val_loss: 0.0382 - val_accuracy: 0.9766\n",
      "Epoch 15/20\n",
      "84/84 [==============================] - 14s 168ms/step - loss: 0.0294 - accuracy: 0.9831 - val_loss: 0.0352 - val_accuracy: 0.9785\n",
      "Epoch 16/20\n",
      "84/84 [==============================] - 14s 168ms/step - loss: 0.0274 - accuracy: 0.9846 - val_loss: 0.0389 - val_accuracy: 0.9762\n",
      "Epoch 17/20\n",
      "84/84 [==============================] - 14s 169ms/step - loss: 0.0260 - accuracy: 0.9839 - val_loss: 0.0379 - val_accuracy: 0.9752\n",
      "Epoch 18/20\n",
      "84/84 [==============================] - 14s 169ms/step - loss: 0.0220 - accuracy: 0.9869 - val_loss: 0.0341 - val_accuracy: 0.9766\n",
      "Epoch 19/20\n",
      "84/84 [==============================] - 14s 169ms/step - loss: 0.0225 - accuracy: 0.9863 - val_loss: 0.0408 - val_accuracy: 0.9828\n",
      "Epoch 20/20\n",
      "84/84 [==============================] - 14s 169ms/step - loss: 0.0215 - accuracy: 0.9876 - val_loss: 0.0403 - val_accuracy: 0.9785\n"
     ]
    },
    {
     "data": {
      "text/plain": [
       "<tensorflow.python.keras.callbacks.History at 0x7f6dacbd8908>"
      ]
     },
     "execution_count": 22,
     "metadata": {},
     "output_type": "execute_result"
    }
   ],
   "source": [
    "batch_size = 100\n",
    "epochs = 20\n",
    "\n",
    "model.fit(X_train, y_train,\n",
    "          batch_size=batch_size,\n",
    "          epochs=epochs,\n",
    "          verbose=1,\n",
    "          validation_data=(X_test, y_test))\n",
    "\n"
   ]
  },
  {
   "cell_type": "code",
   "execution_count": 23,
   "metadata": {},
   "outputs": [
    {
     "data": {
      "text/plain": [
       "array([[8.6263273e-05, 2.8926894e-04, 4.2412998e-06, 9.9938536e-01]],\n",
       "      dtype=float32)"
      ]
     },
     "execution_count": 23,
     "metadata": {},
     "output_type": "execute_result"
    }
   ],
   "source": [
    "X_test[45].shape\n",
    "model.predict(np.array([X_test[403]]))"
   ]
  },
  {
   "cell_type": "code",
   "execution_count": null,
   "metadata": {},
   "outputs": [],
   "source": [
    "\n"
   ]
  },
  {
   "cell_type": "code",
   "execution_count": null,
   "metadata": {},
   "outputs": [],
   "source": [
    "\n"
   ]
  }
 ],
 "metadata": {
  "kernelspec": {
   "display_name": "Python 3",
   "language": "python",
   "name": "python3"
  },
  "language_info": {
   "codemirror_mode": {
    "name": "ipython",
    "version": 3
   },
   "file_extension": ".py",
   "mimetype": "text/x-python",
   "name": "python",
   "nbconvert_exporter": "python",
   "pygments_lexer": "ipython3",
   "version": "3.6.9"
  }
 },
 "nbformat": 4,
 "nbformat_minor": 4
}
