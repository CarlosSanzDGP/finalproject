{
 "cells": [
  {
   "cell_type": "code",
   "execution_count": 40,
   "metadata": {},
   "outputs": [
    {
     "name": "stdout",
     "output_type": "stream",
     "text": [
      "the yellow feber\n"
     ]
    }
   ],
   "source": [
    "\n",
    "b=[\"the black sheep you are\",\"my soul\",\"Black Lives Matter\", \"Michael Jackson... I mean, the young Michael Jackson\", \"Back to Black by AC/DC\"]\n",
    "w=[\"the White Stripes\", \"the Pope\", \"Barry's surname\", \"the white russian I'll have this evening\"]\n",
    "r=[\"red,red wine\", \"Trostky and Pablo Iglesias\", \"the Communism\", \"little red riding hood\"]\n",
    "y=[\"the yellow submarine by the Beatles\", \"the yellow fever\", \"The Sun newspaper\", \"'hielo' in English\"]"
   ]
  },
  {
   "cell_type": "code",
   "execution_count": 60,
   "metadata": {},
   "outputs": [],
   "source": [
    "import random\n",
    "def car_c (a):\n",
    "    b=[\"the black sheep you are\",\"my soul\",\"Black Lives Matter\", \"Michael Jackson... I mean, the young Michael Jackson\", \"Back to Black by AC/DC\"]\n",
    "    w=[\"the White Stripes\", \"the Pope\", \"Barry's surname\", \"the white russian I'll have this evening\"]\n",
    "    r=[\"red,red wine\", \"Trostky and Pablo Iglesias\", \"the Communism\", \"little red riding hood\"]\n",
    "    y=[\"the yellow submarine by the Beatles\", \"the yellow feber\", \"The Sun newspaper\", \"'ice' in Spanish\"]\n",
    "    if a=='black':\n",
    "        return f'The color of the car of the picture is {a}, like {random.choice(b)}'\n",
    "    elif a== \"red\":\n",
    "        return f'The color of the car of the picture is {a}, like {random.choice(r)}'\n",
    "    elif a== \"yellow\":\n",
    "        return f'The color of the car of the picture is {a}, like {random.choice(y)}'\n",
    "    elif a==\"white\":\n",
    "        return f\"The color of the car of the picture is {a}, like {random.choice(w)}\""
   ]
  },
  {
   "cell_type": "code",
   "execution_count": 61,
   "metadata": {},
   "outputs": [
    {
     "name": "stdout",
     "output_type": "stream",
     "text": [
      "The color of the car of the picture is yellow, like the yellow submarine by the Beatles\n"
     ]
    }
   ],
   "source": [
    "print(car_c(\"yellow\"))"
   ]
  },
  {
   "cell_type": "code",
   "execution_count": null,
   "metadata": {},
   "outputs": [],
   "source": []
  },
  {
   "cell_type": "code",
   "execution_count": null,
   "metadata": {},
   "outputs": [],
   "source": []
  }
 ],
 "metadata": {
  "kernelspec": {
   "display_name": "Python 3",
   "language": "python",
   "name": "python3"
  },
  "language_info": {
   "codemirror_mode": {
    "name": "ipython",
    "version": 3
   },
   "file_extension": ".py",
   "mimetype": "text/x-python",
   "name": "python",
   "nbconvert_exporter": "python",
   "pygments_lexer": "ipython3",
   "version": "3.6.9"
  }
 },
 "nbformat": 4,
 "nbformat_minor": 4
}
