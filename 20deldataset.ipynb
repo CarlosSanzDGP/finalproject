{
 "cells": [
  {
   "cell_type": "code",
   "execution_count": 2,
   "metadata": {},
   "outputs": [],
   "source": [
    "#jupiter solo para hacer 20 pruebas con coches del dataset"
   ]
  },
  {
   "cell_type": "code",
   "execution_count": 3,
   "metadata": {},
   "outputs": [],
   "source": [
    "from numpy import loadtxt\n",
    "from keras.models import load_model\n",
    "from PIL import Image\n",
    "import tensorflow as tf\n",
    "import numpy as np\n",
    "from sklearn.preprocessing import OneHotEncoder"
   ]
  },
  {
   "cell_type": "code",
   "execution_count": 4,
   "metadata": {},
   "outputs": [
    {
     "name": "stdout",
     "output_type": "stream",
     "text": [
      "Model: \"sequential\"\n",
      "_________________________________________________________________\n",
      "Layer (type)                 Output Shape              Param #   \n",
      "=================================================================\n",
      "conv2d (Conv2D)              (None, 62, 62, 32)        896       \n",
      "_________________________________________________________________\n",
      "activation (Activation)      (None, 62, 62, 32)        0         \n",
      "_________________________________________________________________\n",
      "max_pooling2d (MaxPooling2D) (None, 31, 31, 32)        0         \n",
      "_________________________________________________________________\n",
      "conv2d_1 (Conv2D)            (None, 29, 29, 32)        9248      \n",
      "_________________________________________________________________\n",
      "activation_1 (Activation)    (None, 29, 29, 32)        0         \n",
      "_________________________________________________________________\n",
      "max_pooling2d_1 (MaxPooling2 (None, 14, 14, 32)        0         \n",
      "_________________________________________________________________\n",
      "conv2d_2 (Conv2D)            (None, 12, 12, 64)        18496     \n",
      "_________________________________________________________________\n",
      "activation_2 (Activation)    (None, 12, 12, 64)        0         \n",
      "_________________________________________________________________\n",
      "max_pooling2d_2 (MaxPooling2 (None, 6, 6, 64)          0         \n",
      "_________________________________________________________________\n",
      "flatten (Flatten)            (None, 2304)              0         \n",
      "_________________________________________________________________\n",
      "dense (Dense)                (None, 64)                147520    \n",
      "_________________________________________________________________\n",
      "activation_3 (Activation)    (None, 64)                0         \n",
      "_________________________________________________________________\n",
      "dropout (Dropout)            (None, 64)                0         \n",
      "_________________________________________________________________\n",
      "dense_1 (Dense)              (None, 4)                 260       \n",
      "_________________________________________________________________\n",
      "activation_4 (Activation)    (None, 4)                 0         \n",
      "=================================================================\n",
      "Total params: 176,420\n",
      "Trainable params: 176,420\n",
      "Non-trainable params: 0\n",
      "_________________________________________________________________\n"
     ]
    }
   ],
   "source": [
    "# load model\n",
    "model = load_model('model.cars_colours')\n",
    "# summarize model.\n",
    "model.summary()"
   ]
  },
  {
   "cell_type": "code",
   "execution_count": 5,
   "metadata": {},
   "outputs": [],
   "source": [
    "def CCCP(path):\n",
    "    pic=Image.open(path)\n",
    "    pic=pic.resize((64,64))\n",
    "    pic=np.expand_dims(np.array(pic),0)\n",
    "    pic=tf.keras.utils.normalize(pic,axis=1) \n",
    "    pred= model.predict(pic)\n",
    "    enc = OneHotEncoder()\n",
    "    labels=[[\"black\"],[\"green\"], [\"red\"], [\"white\"]]\n",
    "    enc.fit(labels)  \n",
    "    c = enc.inverse_transform(pred)\n",
    "    prob = max(pred[0])\n",
    "    resp = c[0,0],prob\n",
    "    return resp"
   ]
  },
  {
   "cell_type": "code",
   "execution_count": 6,
   "metadata": {},
   "outputs": [],
   "source": [
    "import random\n",
    "def car_c (*resp):\n",
    "    dic={'black':[\"the black sheep you are\",\"my soul\",\"Black Lives Matter\", \"Michael Jackson... I mean, the young Michael Jackson\", \"Back to Black by AC/DC\"],\n",
    "          'white':[\"the White Stripes\", \"the Pope\", \"Barry's surname\", \"the white russian I'll have this evening\"],\n",
    "          'red':[\"red,red wine\", \"Trotsky and Pablo Iglesias\", \"the Communism\", \"little red riding hood\"],\n",
    "          'green':[\"Hulk\", \"Green day\", \"the Green Lantern, the worst script ever\", \"Pere-grin\"]\n",
    "        }\n",
    "    \n",
    "    return f'The color of the car of the picture is {resp[0]}, like {random.choice(dic[resp[0]])}, with a probability of {round(resp[1]*100,2)}%.'"
   ]
  },
  {
   "cell_type": "code",
   "execution_count": 7,
   "metadata": {},
   "outputs": [
    {
     "data": {
      "text/plain": [
       "'The color of the car of the picture is black, like my soul, with a probability of 99.5%.'"
      ]
     },
     "execution_count": 7,
     "metadata": {},
     "output_type": "execute_result"
    }
   ],
   "source": [
    "car_c(*CCCP(\"INPUT/black/11131_17.jpg\"))\n"
   ]
  },
  {
   "cell_type": "code",
   "execution_count": 8,
   "metadata": {},
   "outputs": [
    {
     "data": {
      "text/plain": [
       "'The color of the car of the picture is black, like Michael Jackson... I mean, the young Michael Jackson, with a probability of 98.04%.'"
      ]
     },
     "execution_count": 8,
     "metadata": {},
     "output_type": "execute_result"
    }
   ],
   "source": [
    "car_c(*CCCP(\"INPUT/black/11150928_265.jpg\"))"
   ]
  },
  {
   "cell_type": "code",
   "execution_count": 9,
   "metadata": {},
   "outputs": [
    {
     "data": {
      "text/plain": [
       "'The color of the car of the picture is black, like Back to Black by AC/DC, with a probability of 98.3%.'"
      ]
     },
     "execution_count": 9,
     "metadata": {},
     "output_type": "execute_result"
    }
   ],
   "source": [
    "car_c(*CCCP(\"INPUT/black/11150928_377.jpg\"))"
   ]
  },
  {
   "cell_type": "code",
   "execution_count": 10,
   "metadata": {},
   "outputs": [
    {
     "data": {
      "text/plain": [
       "'The color of the car of the picture is black, like the black sheep you are, with a probability of 99.96%.'"
      ]
     },
     "execution_count": 10,
     "metadata": {},
     "output_type": "execute_result"
    }
   ],
   "source": [
    "car_c(*CCCP(\"INPUT/black/snap_201202220829385780_蒙KQJ567_蓝_20120222082939_2.jpg\"))"
   ]
  },
  {
   "cell_type": "code",
   "execution_count": 14,
   "metadata": {},
   "outputs": [
    {
     "data": {
      "text/plain": [
       "'The color of the car of the picture is black, like the black sheep you are, with a probability of 99.97%.'"
      ]
     },
     "execution_count": 14,
     "metadata": {},
     "output_type": "execute_result"
    }
   ],
   "source": [
    "car_c(*CCCP(\"INPUT/black/snap_201202220956162370_豫RF0017_蓝_20120222095628_1.jpg\"))"
   ]
  },
  {
   "cell_type": "code",
   "execution_count": 15,
   "metadata": {},
   "outputs": [
    {
     "data": {
      "text/plain": [
       "'The color of the car of the picture is black, like my soul, with a probability of 99.98%.'"
      ]
     },
     "execution_count": 15,
     "metadata": {},
     "output_type": "execute_result"
    }
   ],
   "source": [
    "car_c(*CCCP(\"INPUT/black/snap_201202221003586620_蒙KFK916_蓝_20120222100413_2.jpg\"))"
   ]
  },
  {
   "cell_type": "code",
   "execution_count": 16,
   "metadata": {},
   "outputs": [
    {
     "data": {
      "text/plain": [
       "'The color of the car of the picture is black, like Black Lives Matter, with a probability of 99.99%.'"
      ]
     },
     "execution_count": 16,
     "metadata": {},
     "output_type": "execute_result"
    }
   ],
   "source": [
    "car_c(*CCCP(\"INPUT/black/snap_201202221015335000_蒙KA5638_蓝_20120222101536_1.jpg\"))"
   ]
  },
  {
   "cell_type": "code",
   "execution_count": 17,
   "metadata": {},
   "outputs": [
    {
     "data": {
      "text/plain": [
       "'The color of the car of the picture is green, like Hulk, with a probability of 99.72%.'"
      ]
     },
     "execution_count": 17,
     "metadata": {},
     "output_type": "execute_result"
    }
   ],
   "source": [
    "car_c(*CCCP(\"INPUT/green/1.jpg\"))"
   ]
  },
  {
   "cell_type": "code",
   "execution_count": 18,
   "metadata": {},
   "outputs": [
    {
     "data": {
      "text/plain": [
       "'The color of the car of the picture is green, like Green day, with a probability of 99.97%.'"
      ]
     },
     "execution_count": 18,
     "metadata": {},
     "output_type": "execute_result"
    }
   ],
   "source": [
    "car_c(*CCCP(\"INPUT/green/11131_247.jpg\"))"
   ]
  },
  {
   "cell_type": "code",
   "execution_count": 19,
   "metadata": {},
   "outputs": [
    {
     "data": {
      "text/plain": [
       "'The color of the car of the picture is green, like the Green Lantern, the worst script ever, with a probability of 99.97%.'"
      ]
     },
     "execution_count": 19,
     "metadata": {},
     "output_type": "execute_result"
    }
   ],
   "source": [
    "car_c(*CCCP(\"INPUT/green/11131_260.jpg\"))"
   ]
  },
  {
   "cell_type": "code",
   "execution_count": 20,
   "metadata": {},
   "outputs": [
    {
     "data": {
      "text/plain": [
       "'The color of the car of the picture is green, like the Green Lantern, the worst script ever, with a probability of 99.91%.'"
      ]
     },
     "execution_count": 20,
     "metadata": {},
     "output_type": "execute_result"
    }
   ],
   "source": [
    "car_c(*CCCP(\"INPUT/green/11132_22.jpg\"))"
   ]
  },
  {
   "cell_type": "code",
   "execution_count": 21,
   "metadata": {},
   "outputs": [
    {
     "data": {
      "text/plain": [
       "'The color of the car of the picture is green, like Pere-grin, with a probability of 99.98%.'"
      ]
     },
     "execution_count": 21,
     "metadata": {},
     "output_type": "execute_result"
    }
   ],
   "source": [
    "car_c(*CCCP(\"INPUT/green/157.jpg\"))"
   ]
  },
  {
   "cell_type": "code",
   "execution_count": 22,
   "metadata": {},
   "outputs": [
    {
     "data": {
      "text/plain": [
       "'The color of the car of the picture is red, like the Communism, with a probability of 100.0%.'"
      ]
     },
     "execution_count": 22,
     "metadata": {},
     "output_type": "execute_result"
    }
   ],
   "source": [
    "car_c(*CCCP(\"INPUT/red/11133_728.jpg\"))"
   ]
  },
  {
   "cell_type": "code",
   "execution_count": 23,
   "metadata": {},
   "outputs": [
    {
     "data": {
      "text/plain": [
       "'The color of the car of the picture is red, like red,red wine, with a probability of 100.0%.'"
      ]
     },
     "execution_count": 23,
     "metadata": {},
     "output_type": "execute_result"
    }
   ],
   "source": [
    "car_c(*CCCP(\"INPUT/red/11150901_111.jpg\"))"
   ]
  },
  {
   "cell_type": "code",
   "execution_count": 24,
   "metadata": {},
   "outputs": [
    {
     "data": {
      "text/plain": [
       "'The color of the car of the picture is red, like the Communism, with a probability of 100.0%.'"
      ]
     },
     "execution_count": 24,
     "metadata": {},
     "output_type": "execute_result"
    }
   ],
   "source": [
    "car_c(*CCCP(\"INPUT/red/11150928_335.jpg\"))"
   ]
  },
  {
   "cell_type": "code",
   "execution_count": 25,
   "metadata": {},
   "outputs": [
    {
     "data": {
      "text/plain": [
       "'The color of the car of the picture is red, like the Communism, with a probability of 100.0%.'"
      ]
     },
     "execution_count": 25,
     "metadata": {},
     "output_type": "execute_result"
    }
   ],
   "source": [
    "car_c(*CCCP(\"INPUT/red/snap_201202220910318890_豫AG5803_黄_20120222091043_2.jpg\"))"
   ]
  },
  {
   "cell_type": "code",
   "execution_count": 26,
   "metadata": {},
   "outputs": [
    {
     "data": {
      "text/plain": [
       "'The color of the car of the picture is red, like little red riding hood, with a probability of 100.0%.'"
      ]
     },
     "execution_count": 26,
     "metadata": {},
     "output_type": "execute_result"
    }
   ],
   "source": [
    "car_c(*CCCP(\"INPUT/red/snap_201202220940236020_蒙K76210_黄_20120222094033_1.jpg\"))"
   ]
  },
  {
   "cell_type": "code",
   "execution_count": 27,
   "metadata": {},
   "outputs": [
    {
     "data": {
      "text/plain": [
       "\"The color of the car of the picture is white, like the white russian I'll have this evening, with a probability of 100.0%.\""
      ]
     },
     "execution_count": 27,
     "metadata": {},
     "output_type": "execute_result"
    }
   ],
   "source": [
    "car_c(*CCCP(\"INPUT/white/11131_63.jpg\"))"
   ]
  },
  {
   "cell_type": "code",
   "execution_count": 28,
   "metadata": {},
   "outputs": [
    {
     "data": {
      "text/plain": [
       "\"The color of the car of the picture is white, like the white russian I'll have this evening, with a probability of 100.0%.\""
      ]
     },
     "execution_count": 28,
     "metadata": {},
     "output_type": "execute_result"
    }
   ],
   "source": [
    "car_c(*CCCP(\"INPUT/white/11131_77.jpg\"))"
   ]
  },
  {
   "cell_type": "code",
   "execution_count": 29,
   "metadata": {},
   "outputs": [
    {
     "data": {
      "text/plain": [
       "'The color of the car of the picture is white, like the White Stripes, with a probability of 99.89%.'"
      ]
     },
     "execution_count": 29,
     "metadata": {},
     "output_type": "execute_result"
    }
   ],
   "source": [
    "car_c(*CCCP(\"INPUT/white/11150928_227.jpg\"))"
   ]
  },
  {
   "cell_type": "code",
   "execution_count": 30,
   "metadata": {},
   "outputs": [
    {
     "data": {
      "text/plain": [
       "'The color of the car of the picture is white, like the Pope, with a probability of 99.02%.'"
      ]
     },
     "execution_count": 30,
     "metadata": {},
     "output_type": "execute_result"
    }
   ],
   "source": [
    "car_c(*CCCP(\"INPUT/white/11150928_252.jpg\"))"
   ]
  },
  {
   "cell_type": "code",
   "execution_count": 31,
   "metadata": {},
   "outputs": [
    {
     "data": {
      "text/plain": [
       "'The color of the car of the picture is white, like the Pope, with a probability of 98.87%.'"
      ]
     },
     "execution_count": 31,
     "metadata": {},
     "output_type": "execute_result"
    }
   ],
   "source": [
    "car_c(*CCCP(\"INPUT/white/11150928_120.jpg\"))"
   ]
  },
  {
   "cell_type": "code",
   "execution_count": null,
   "metadata": {},
   "outputs": [],
   "source": []
  }
 ],
 "metadata": {
  "kernelspec": {
   "display_name": "Python 3",
   "language": "python",
   "name": "python3"
  },
  "language_info": {
   "codemirror_mode": {
    "name": "ipython",
    "version": 3
   },
   "file_extension": ".py",
   "mimetype": "text/x-python",
   "name": "python",
   "nbconvert_exporter": "python",
   "pygments_lexer": "ipython3",
   "version": "3.6.9"
  }
 },
 "nbformat": 4,
 "nbformat_minor": 4
}
