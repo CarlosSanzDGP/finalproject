{
 "cells": [
  {
   "cell_type": "code",
   "execution_count": 1,
   "metadata": {},
   "outputs": [],
   "source": [
    "#jupyter solo para probar coches ajenos al dataset\n"
   ]
  },
  {
   "cell_type": "code",
   "execution_count": 6,
   "metadata": {},
   "outputs": [],
   "source": [
    "from numpy import loadtxt\n",
    "from keras.models import load_model\n",
    "from PIL import Image\n",
    "import tensorflow as tf\n",
    "import numpy as np\n",
    "from sklearn.preprocessing import OneHotEncoder"
   ]
  },
  {
   "cell_type": "code",
   "execution_count": 3,
   "metadata": {},
   "outputs": [
    {
     "name": "stdout",
     "output_type": "stream",
     "text": [
      "Model: \"sequential\"\n",
      "_________________________________________________________________\n",
      "Layer (type)                 Output Shape              Param #   \n",
      "=================================================================\n",
      "conv2d (Conv2D)              (None, 62, 62, 32)        896       \n",
      "_________________________________________________________________\n",
      "activation (Activation)      (None, 62, 62, 32)        0         \n",
      "_________________________________________________________________\n",
      "max_pooling2d (MaxPooling2D) (None, 31, 31, 32)        0         \n",
      "_________________________________________________________________\n",
      "conv2d_1 (Conv2D)            (None, 29, 29, 32)        9248      \n",
      "_________________________________________________________________\n",
      "activation_1 (Activation)    (None, 29, 29, 32)        0         \n",
      "_________________________________________________________________\n",
      "max_pooling2d_1 (MaxPooling2 (None, 14, 14, 32)        0         \n",
      "_________________________________________________________________\n",
      "conv2d_2 (Conv2D)            (None, 12, 12, 64)        18496     \n",
      "_________________________________________________________________\n",
      "activation_2 (Activation)    (None, 12, 12, 64)        0         \n",
      "_________________________________________________________________\n",
      "max_pooling2d_2 (MaxPooling2 (None, 6, 6, 64)          0         \n",
      "_________________________________________________________________\n",
      "flatten (Flatten)            (None, 2304)              0         \n",
      "_________________________________________________________________\n",
      "dense (Dense)                (None, 64)                147520    \n",
      "_________________________________________________________________\n",
      "activation_3 (Activation)    (None, 64)                0         \n",
      "_________________________________________________________________\n",
      "dropout (Dropout)            (None, 64)                0         \n",
      "_________________________________________________________________\n",
      "dense_1 (Dense)              (None, 4)                 260       \n",
      "_________________________________________________________________\n",
      "activation_4 (Activation)    (None, 4)                 0         \n",
      "=================================================================\n",
      "Total params: 176,420\n",
      "Trainable params: 176,420\n",
      "Non-trainable params: 0\n",
      "_________________________________________________________________\n"
     ]
    }
   ],
   "source": [
    "# load model\n",
    "model = load_model('model.cars_colours')\n",
    "# summarize model.\n",
    "model.summary()"
   ]
  },
  {
   "cell_type": "code",
   "execution_count": 4,
   "metadata": {},
   "outputs": [],
   "source": [
    "def CCCP(path):\n",
    "    pic=Image.open(path)\n",
    "    pic=pic.resize((64,64))\n",
    "    pic=np.expand_dims(np.array(pic),0)\n",
    "    pic=tf.keras.utils.normalize(pic,axis=1) \n",
    "    pred= model.predict(pic)\n",
    "    enc = OneHotEncoder()\n",
    "    labels=[[\"black\"],[\"green\"], [\"red\"], [\"white\"]]\n",
    "    enc.fit(labels)  \n",
    "    c = enc.inverse_transform(pred)\n",
    "    prob = max(pred[0])\n",
    "    resp = c[0,0],prob\n",
    "    return resp"
   ]
  },
  {
   "cell_type": "code",
   "execution_count": 5,
   "metadata": {},
   "outputs": [],
   "source": [
    "import random\n",
    "def car_c (*resp):\n",
    "    dic={'black':[\"the black sheep you are\",\"my soul\",\"Black Lives Matter\", \"Michael Jackson... I mean, the young Michael Jackson\", \"Back to Black by AC/DC\"],\n",
    "          'white':[\"the White Stripes\", \"the Pope\", \"Barry's surname\", \"the white russian I'll have this evening\"],\n",
    "          'red':[\"red,red wine\", \"Trotsky and Pablo Iglesias\", \"the Communism\", \"little red riding hood\"],\n",
    "          'green':[\"Hulk\", \"Green day\", \"the Green Lantern, the worst script ever\", \"Pere-grin\"]\n",
    "        }\n",
    "    \n",
    "    return f'The color of the car of the picture is {resp[0]}, like {random.choice(dic[resp[0]])}, with a probability of {round(resp[1]*100,2)}%.'\n",
    "    "
   ]
  },
  {
   "cell_type": "code",
   "execution_count": 7,
   "metadata": {},
   "outputs": [
    {
     "data": {
      "text/plain": [
       "\"The color of the car of the picture is white, like the white russian I'll have this evening, with a probability of 49.53%.\""
      ]
     },
     "execution_count": 7,
     "metadata": {},
     "output_type": "execute_result"
    }
   ],
   "source": [
    "car_c(*CCCP(\"INPUT/fotocochesinternet/1.jpeg\"))\n",
    "#ok. Blanco"
   ]
  },
  {
   "cell_type": "code",
   "execution_count": 28,
   "metadata": {},
   "outputs": [
    {
     "data": {
      "text/plain": [
       "'The color of the car of the picture is red, like red,red wine, with a probability of 100.0%.'"
      ]
     },
     "execution_count": 28,
     "metadata": {},
     "output_type": "execute_result"
    }
   ],
   "source": [
    "car_c(*CCCP(\"INPUT/fotocochesinternet/2.jpeg\"))\n",
    "#OK Red"
   ]
  },
  {
   "cell_type": "code",
   "execution_count": 9,
   "metadata": {},
   "outputs": [
    {
     "data": {
      "text/plain": [
       "'The color of the car of the picture is red, like Trotsky and Pablo Iglesias, with a probability of 100.0%.'"
      ]
     },
     "execution_count": 9,
     "metadata": {},
     "output_type": "execute_result"
    }
   ],
   "source": [
    "car_c(*CCCP(\"INPUT/fotocochesinternet/3.jpeg\"))\n",
    "#ok. REd"
   ]
  },
  {
   "cell_type": "code",
   "execution_count": 10,
   "metadata": {},
   "outputs": [
    {
     "data": {
      "text/plain": [
       "'The color of the car of the picture is red, like the Communism, with a probability of 100.0%.'"
      ]
     },
     "execution_count": 10,
     "metadata": {},
     "output_type": "execute_result"
    }
   ],
   "source": [
    "car_c(*CCCP(\"INPUT/fotocochesinternet/4.jpeg\"))\n",
    "#ok. Red"
   ]
  },
  {
   "cell_type": "code",
   "execution_count": 11,
   "metadata": {},
   "outputs": [
    {
     "data": {
      "text/plain": [
       "'The color of the car of the picture is red, like the Communism, with a probability of 100.0%.'"
      ]
     },
     "execution_count": 11,
     "metadata": {},
     "output_type": "execute_result"
    }
   ],
   "source": [
    "car_c(*CCCP(\"INPUT/fotocochesinternet/5.jpeg\"))\n",
    "#ok.Red"
   ]
  },
  {
   "cell_type": "code",
   "execution_count": 29,
   "metadata": {},
   "outputs": [
    {
     "data": {
      "text/plain": [
       "'The color of the car of the picture is black, like Michael Jackson... I mean, the young Michael Jackson, with a probability of 92.23%.'"
      ]
     },
     "execution_count": 29,
     "metadata": {},
     "output_type": "execute_result"
    }
   ],
   "source": [
    "car_c(*CCCP(\"INPUT/fotocochesinternet/6.jpeg\"))\n",
    "#ok. Black"
   ]
  },
  {
   "cell_type": "code",
   "execution_count": 13,
   "metadata": {},
   "outputs": [
    {
     "data": {
      "text/plain": [
       "'The color of the car of the picture is red, like red,red wine, with a probability of 99.98%.'"
      ]
     },
     "execution_count": 13,
     "metadata": {},
     "output_type": "execute_result"
    }
   ],
   "source": [
    "car_c(*CCCP(\"INPUT/fotocochesinternet/7.jpeg\"))\n",
    "#ok. Red"
   ]
  },
  {
   "cell_type": "code",
   "execution_count": 33,
   "metadata": {},
   "outputs": [
    {
     "data": {
      "text/plain": [
       "'The color of the car of the picture is green, like the Green Lantern, the worst script ever, with a probability of 98.95%.'"
      ]
     },
     "execution_count": 33,
     "metadata": {},
     "output_type": "execute_result"
    }
   ],
   "source": [
    "car_c(*CCCP(\"INPUT/fotocochesinternet/8.jpeg\"))\n",
    "#ok. Green"
   ]
  },
  {
   "cell_type": "code",
   "execution_count": 36,
   "metadata": {},
   "outputs": [
    {
     "data": {
      "text/plain": [
       "'The color of the car of the picture is green, like Hulk, with a probability of 94.28%.'"
      ]
     },
     "execution_count": 36,
     "metadata": {},
     "output_type": "execute_result"
    }
   ],
   "source": [
    "car_c(*CCCP(\"INPUT/fotocochesinternet/9.jpeg\"))\n",
    "#ok verde"
   ]
  },
  {
   "cell_type": "code",
   "execution_count": 16,
   "metadata": {},
   "outputs": [
    {
     "data": {
      "text/plain": [
       "'The color of the car of the picture is red, like Trotsky and Pablo Iglesias, with a probability of 99.71%.'"
      ]
     },
     "execution_count": 16,
     "metadata": {},
     "output_type": "execute_result"
    }
   ],
   "source": [
    "car_c(*CCCP(\"INPUT/fotocochesinternet/10.jpeg\"))\n",
    "#ok.Red"
   ]
  },
  {
   "cell_type": "code",
   "execution_count": 40,
   "metadata": {},
   "outputs": [
    {
     "data": {
      "text/plain": [
       "'The color of the car of the picture is green, like Green day, with a probability of 48.87%.'"
      ]
     },
     "execution_count": 40,
     "metadata": {},
     "output_type": "execute_result"
    }
   ],
   "source": [
    "car_c(*CCCP(\"INPUT/fotocochesinternet/11.jpeg\"))\n",
    "# OK green"
   ]
  },
  {
   "cell_type": "code",
   "execution_count": 18,
   "metadata": {},
   "outputs": [
    {
     "data": {
      "text/plain": [
       "'The color of the car of the picture is red, like little red riding hood, with a probability of 100.0%.'"
      ]
     },
     "execution_count": 18,
     "metadata": {},
     "output_type": "execute_result"
    }
   ],
   "source": [
    "car_c(*CCCP(\"INPUT/fotocochesinternet/12.jpeg\"))\n",
    "#ok. Red"
   ]
  },
  {
   "cell_type": "code",
   "execution_count": 19,
   "metadata": {},
   "outputs": [
    {
     "data": {
      "text/plain": [
       "'The color of the car of the picture is black, like my soul, with a probability of 67.93%.'"
      ]
     },
     "execution_count": 19,
     "metadata": {},
     "output_type": "execute_result"
    }
   ],
   "source": [
    "car_c(*CCCP(\"INPUT/fotocochesinternet/14.jpeg\"))\n",
    "#Ok. Negro"
   ]
  },
  {
   "cell_type": "code",
   "execution_count": 49,
   "metadata": {},
   "outputs": [
    {
     "data": {
      "text/plain": [
       "'The color of the car of the picture is white, like the White Stripes, with a probability of 99.99%.'"
      ]
     },
     "execution_count": 49,
     "metadata": {},
     "output_type": "execute_result"
    }
   ],
   "source": [
    "car_c(*CCCP(\"INPUT/fotocochesinternet/15.jpeg\"))\n",
    "#ok white"
   ]
  },
  {
   "cell_type": "code",
   "execution_count": 21,
   "metadata": {},
   "outputs": [
    {
     "data": {
      "text/plain": [
       "'The color of the car of the picture is red, like the Communism, with a probability of 100.0%.'"
      ]
     },
     "execution_count": 21,
     "metadata": {},
     "output_type": "execute_result"
    }
   ],
   "source": [
    "car_c(*CCCP(\"INPUT/fotocochesinternet/16.jpeg\"))\n",
    "#ok.Rojo"
   ]
  },
  {
   "cell_type": "code",
   "execution_count": 50,
   "metadata": {},
   "outputs": [
    {
     "data": {
      "text/plain": [
       "\"The color of the car of the picture is white, like Barry's surname, with a probability of 58.8%.\""
      ]
     },
     "execution_count": 50,
     "metadata": {},
     "output_type": "execute_result"
    }
   ],
   "source": [
    "car_c(*CCCP(\"INPUT/fotocochesinternet/17.jpeg\"))\n",
    "#ok.White"
   ]
  },
  {
   "cell_type": "code",
   "execution_count": 51,
   "metadata": {},
   "outputs": [
    {
     "data": {
      "text/plain": [
       "'The color of the car of the picture is red, like the Communism, with a probability of 99.98%.'"
      ]
     },
     "execution_count": 51,
     "metadata": {},
     "output_type": "execute_result"
    }
   ],
   "source": [
    "car_c(*CCCP(\"INPUT/fotocochesinternet/18.jpeg\"))\n",
    "#ok. Red"
   ]
  },
  {
   "cell_type": "code",
   "execution_count": 24,
   "metadata": {},
   "outputs": [
    {
     "data": {
      "text/plain": [
       "'The color of the car of the picture is black, like Back to Black by AC/DC, with a probability of 41.24%.'"
      ]
     },
     "execution_count": 24,
     "metadata": {},
     "output_type": "execute_result"
    }
   ],
   "source": [
    "car_c(*CCCP(\"INPUT/fotocochesinternet/19.jpeg\"))\n",
    "#ok.negro"
   ]
  },
  {
   "cell_type": "code",
   "execution_count": 25,
   "metadata": {},
   "outputs": [
    {
     "data": {
      "text/plain": [
       "'The color of the car of the picture is green, like Hulk, with a probability of 100.0%.'"
      ]
     },
     "execution_count": 25,
     "metadata": {},
     "output_type": "execute_result"
    }
   ],
   "source": [
    "car_c(*CCCP(\"INPUT/fotocochesinternet/20.jpeg\"))\n",
    "#ok. Green"
   ]
  },
  {
   "cell_type": "code",
   "execution_count": 44,
   "metadata": {},
   "outputs": [
    {
     "data": {
      "text/plain": [
       "'The color of the car of the picture is white, like the White Stripes, with a probability of 99.93%.'"
      ]
     },
     "execution_count": 44,
     "metadata": {},
     "output_type": "execute_result"
    }
   ],
   "source": [
    "car_c(*CCCP(\"INPUT/fotocochesinternet/21.jpeg\"))\n",
    "#ok. White"
   ]
  },
  {
   "cell_type": "code",
   "execution_count": 42,
   "metadata": {},
   "outputs": [
    {
     "data": {
      "text/plain": [
       "'The color of the car of the picture is white, like the White Stripes, with a probability of 66.34%.'"
      ]
     },
     "execution_count": 42,
     "metadata": {},
     "output_type": "execute_result"
    }
   ],
   "source": [
    "car_c(*CCCP(\"INPUT/fotocochesinternet/22.jpeg\"))\n",
    "#ok Blanco"
   ]
  },
  {
   "cell_type": "code",
   "execution_count": 37,
   "metadata": {},
   "outputs": [
    {
     "data": {
      "text/plain": [
       "'The color of the car of the picture is white, like the Pope, with a probability of 99.75%.'"
      ]
     },
     "execution_count": 37,
     "metadata": {},
     "output_type": "execute_result"
    }
   ],
   "source": [
    "car_c(*CCCP(\"INPUT/fotocochesinternet/23.jpeg\"))\n",
    "#ok white"
   ]
  },
  {
   "cell_type": "code",
   "execution_count": null,
   "metadata": {},
   "outputs": [],
   "source": []
  }
 ],
 "metadata": {
  "kernelspec": {
   "display_name": "Python 3",
   "language": "python",
   "name": "python3"
  },
  "language_info": {
   "codemirror_mode": {
    "name": "ipython",
    "version": 3
   },
   "file_extension": ".py",
   "mimetype": "text/x-python",
   "name": "python",
   "nbconvert_exporter": "python",
   "pygments_lexer": "ipython3",
   "version": "3.6.9"
  }
 },
 "nbformat": 4,
 "nbformat_minor": 4
}
