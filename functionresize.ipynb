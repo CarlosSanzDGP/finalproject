{
 "cells": [
  {
   "cell_type": "code",
   "execution_count": 2,
   "metadata": {},
   "outputs": [],
   "source": [
    "\n",
    "import pandas as pd\n",
    "import numpy as np"
   ]
  },
  {
   "cell_type": "code",
   "execution_count": null,
   "metadata": {},
   "outputs": [],
   "source": [
    "def resize_image(imagen,size,output=None):\n",
    "    im = Image.open(imagen)\n",
    "    rgb_image = RGBA_a_RGB(im)\n",
    "    im_rgb = rgb_image.resize(size)\n",
    "    if not output:\n",
    "        return im_rgb \n",
    "    onlyfiles = [f for f in listdir(output) if isfile(join(output, f))]\n",
    "    if image not in onlyfiles:\n",
    "        im.save(output)\n",
    "    else:\n",
    "        print(\"file already exists, continuing to next one\") "
   ]
  },
  {
   "cell_type": "code",
   "execution_count": null,
   "metadata": {},
   "outputs": [],
   "source": [
    "def RGBA_a_RGB(image1):\n",
    "    if image1.mode == \"RGBA\":\n",
    "        background = Image.new(\"RGB\", image1.size, (255, 255, 255))\n",
    "        background.paste(image1, mask = image1.split()[3])\n",
    "        background.save(f\"{image1}\", \"JPEG\", quality=100)\n",
    "        rgb_image = Image.open(f\"{image1}\")\n",
    "        return rgb_image\n",
    "    return image1"
   ]
  },
  {
   "cell_type": "code",
   "execution_count": null,
   "metadata": {},
   "outputs": [],
   "source": [
    "def image_to_array(image):\n",
    "    im_np= np.asarray(image)\n",
    "    one_line=im_np.ravel()\n",
    "    return one_line"
   ]
  }
 ],
 "metadata": {
  "kernelspec": {
   "display_name": "Python 3",
   "language": "python",
   "name": "python3"
  },
  "language_info": {
   "codemirror_mode": {
    "name": "ipython",
    "version": 3
   },
   "file_extension": ".py",
   "mimetype": "text/x-python",
   "name": "python",
   "nbconvert_exporter": "python",
   "pygments_lexer": "ipython3",
   "version": "3.6.9"
  }
 },
 "nbformat": 4,
 "nbformat_minor": 4
}
